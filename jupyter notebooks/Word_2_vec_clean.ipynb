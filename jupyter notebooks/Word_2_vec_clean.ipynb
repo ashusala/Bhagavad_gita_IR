{
 "cells": [
  {
   "cell_type": "code",
   "execution_count": 108,
   "metadata": {},
   "outputs": [],
   "source": [
    "#import important libraries\n",
    "from nltk import sent_tokenize, word_tokenize\n",
    "from gensim.models import Word2Vec \n",
    "from numpy.linalg import norm\n",
    "from numpy import dot\n",
    "import string\n",
    "import pandas as pd\n",
    "import numpy as np\n",
    "import gensim"
   ]
  },
  {
   "cell_type": "code",
   "execution_count": 109,
   "metadata": {},
   "outputs": [],
   "source": [
    "sample = open('data_preprocessed.txt','r')\n",
    "s = sample.read()\n",
    "f = s.replace('\\n', ' ')"
   ]
  },
  {
   "cell_type": "code",
   "execution_count": 110,
   "metadata": {},
   "outputs": [],
   "source": [
    "#prepare data for Word2Vec model\n",
    "data = []\n",
    "\n",
    "# iterate through each sentence in the file\n",
    "for i in sent_tokenize(f):\n",
    "    temp = []\n",
    "    \n",
    "    # tokenize the setence into words\n",
    "    for j in word_tokenize(i):\n",
    "        temp.append(j)\n",
    "        \n",
    "    data.append(temp)"
   ]
  },
  {
   "cell_type": "code",
   "execution_count": 111,
   "metadata": {},
   "outputs": [],
   "source": [
    "# train the model\n",
    "model = gensim.models.Word2Vec(data, min_count = 1, size = 100, window = 3)"
   ]
  },
  {
   "cell_type": "code",
   "execution_count": 112,
   "metadata": {
    "scrolled": true
   },
   "outputs": [
    {
     "name": "stderr",
     "output_type": "stream",
     "text": [
      "/opt/anaconda3/lib/python3.7/site-packages/ipykernel_launcher.py:1: DeprecationWarning: Call to deprecated `similar_by_word` (Method will be removed in 4.0.0, use self.wv.similar_by_word() instead).\n",
      "  \"\"\"Entry point for launching an IPython kernel.\n"
     ]
    },
    {
     "data": {
      "text/plain": [
       "[('bellows', 0.7524147629737854),\n",
       " ('saltines', 0.749169647693634),\n",
       " ('salary', 0.7470896244049072),\n",
       " ('pall', 0.7453371286392212),\n",
       " ('recipient', 0.7426235675811768),\n",
       " ('occurrence', 0.73431396484375),\n",
       " ('insanity', 0.7312554121017456),\n",
       " ('womanhood', 0.7241902351379395),\n",
       " ('sample', 0.7230222225189209),\n",
       " ('heatstroke', 0.7195021510124207)]"
      ]
     },
     "execution_count": 112,
     "metadata": {},
     "output_type": "execute_result"
    }
   ],
   "source": [
    "model.similar_by_word('consequence')"
   ]
  },
  {
   "cell_type": "code",
   "execution_count": 113,
   "metadata": {},
   "outputs": [],
   "source": [
    "#function to get the word frequency of each word in a verse/sentence\n",
    "# list_of_words: a pre-processed list of words in a verse/sentence.\n",
    "def word_count(list_of_words):\n",
    "    \n",
    "    #dictionary keeping frequency for all the unique words\n",
    "    counts = dict()\n",
    "    \n",
    "    for word in list_of_words:\n",
    "        #if word already listed, increase its count\n",
    "        if word in counts:\n",
    "            counts[word] += 1\n",
    "        # else putting the new word in dictionary\n",
    "        else:\n",
    "            counts[word] = 1\n",
    "\n",
    "    return counts"
   ]
  },
  {
   "cell_type": "code",
   "execution_count": 114,
   "metadata": {},
   "outputs": [],
   "source": [
    "# function to calculate composite sentence/verse embeddings\n",
    "# verse to be given in tokenzied and preprocessed format to func.\n",
    "def senemb(alpha, verse_tok, model, dim):\n",
    "    # create an empty vector\n",
    "    sentEmb = np.zeros(dim)\n",
    "    v_count = word_count(verse_tok)\n",
    "    \n",
    "    for word in verse_tok:\n",
    "        prob = alpha / (alpha + v_count[word]/len(verse))\n",
    "        sentEmb = sentEmb +  model.wv[word]  * prob\n",
    "        \n",
    "    return sentEmb/len(verse)"
   ]
  },
  {
   "cell_type": "code",
   "execution_count": 115,
   "metadata": {},
   "outputs": [],
   "source": [
    "#sentence embedding for verses\n",
    "\n",
    "verses = pd.read_csv('verses.csv', usecols=['#verse', 'Translation'])\n",
    "data = verses['Translation'].to_list()\n",
    "\n",
    "#list to store all the vectors\n",
    "verse_vectors = []\n",
    "\n",
    "# loop over all the verses\n",
    "for verse in data:\n",
    "    # tokenize and preprocess the verse\n",
    "    verse_tok = word_tokenize(verse.lower().translate(str.maketrans('','',string.punctuation)))\n",
    "    verse_vectors.append(senemb(1, verse_tok, model, 100))   "
   ]
  },
  {
   "cell_type": "code",
   "execution_count": 116,
   "metadata": {},
   "outputs": [],
   "source": [
    "# Here we calculate the sentence embedding vectors for queries\n",
    "\n",
    "# getting the queries\n",
    "df = pd.read_csv('queries_sem.csv')\n",
    "queries_ = df['Verse'].to_list()\n",
    "\n",
    "# pre-processing the queries\n",
    "queries = [query.lower().translate(str.maketrans('','',string.punctuation)).split() for query in queries_]\n",
    "\n",
    "# a list to store all the vectors\n",
    "query_vectors = []\n",
    "\n",
    "for query in queries:\n",
    "    query_vectors.append(senemb(1, query, model, 100))"
   ]
  },
  {
   "cell_type": "code",
   "execution_count": 117,
   "metadata": {},
   "outputs": [
    {
     "data": {
      "text/plain": [
       "' can I get rid of my sins?'"
      ]
     },
     "execution_count": 117,
     "metadata": {},
     "output_type": "execute_result"
    }
   ],
   "source": [
    "queries_[0]"
   ]
  },
  {
   "cell_type": "code",
   "execution_count": 118,
   "metadata": {},
   "outputs": [],
   "source": [
    "# queries_scores: to store cos. sim. of each query with all the verses. [basically a 2d list]\n",
    "queries_scores = []\n",
    "\n",
    "# looping over all the queries\n",
    "for q_vec in query_vectors:\n",
    "    query_scores = []\n",
    "    # storing the scores for a particular query\n",
    "    for v_vec in verse_vectors:\n",
    "        # getting the score\n",
    "        score = (dot(q_vec , v_vec))/(norm(q_vec)*norm(v_vec))\n",
    "        query_scores.append(score)\n",
    "        \n",
    "    queries_scores.append(query_scores)"
   ]
  },
  {
   "cell_type": "code",
   "execution_count": 119,
   "metadata": {},
   "outputs": [],
   "source": [
    "# now let's move towars getting the answers for the queries\n",
    "f = open('best3_word2vec.txt','w+')\n",
    "\n",
    "# top3_verseNo: to store verse nos. of top three verses for each query\n",
    "# to be put as results in mAP fun.\n",
    "top3_verseNo = []\n",
    "\n",
    "# looping over \n",
    "for ind, i in enumerate(queries_scores):\n",
    "    temp = [] # to store the top 3 verses \n",
    "    indices = [] # to store the top 3 indices\n",
    "    \n",
    "    #take three elements with highest scores   \n",
    "    for ele in sorted(i)[-1:-4:-1]:\n",
    "        #top_result = verses.iloc[i.index(ele)]\n",
    "        indices.append(i.index(ele))\n",
    "        temp.append(verses.iloc[i.index(ele)]['#verse'].replace(\":\",\"\"))\n",
    "        \n",
    "    # printing the results in a file\n",
    "    f.write('For query:\\n' + '\"\"' + queries_[ind] + '\"\"' + '\\n\\n')\n",
    "    f.write('The Best 3 matching verses are:\\n')\n",
    "    for ind, i in enumerate(indices):\n",
    "        f.write(str(ind + 1) + ') ' + verses.iloc[i]['#verse'] + verses.iloc[i]['Translation'] + '\\n\\n')\n",
    "\n",
    "    top3_verseNo.append(temp)"
   ]
  },
  {
   "cell_type": "code",
   "execution_count": 120,
   "metadata": {},
   "outputs": [
    {
     "name": "stdout",
     "output_type": "stream",
     "text": [
      "  #verse                                        Translation\n",
      "1   1.2:  Sanjaya said: O King, after looking over the a...\n",
      "2   1.3:  O my teacher, behold the great army of the son...\n"
     ]
    }
   ],
   "source": [
    "print(str(verses.iloc[[1,2]]))"
   ]
  },
  {
   "cell_type": "code",
   "execution_count": null,
   "metadata": {},
   "outputs": [],
   "source": []
  },
  {
   "cell_type": "code",
   "execution_count": null,
   "metadata": {},
   "outputs": [],
   "source": []
  }
 ],
 "metadata": {
  "kernelspec": {
   "display_name": "Python 3",
   "language": "python",
   "name": "python3"
  },
  "language_info": {
   "codemirror_mode": {
    "name": "ipython",
    "version": 3
   },
   "file_extension": ".py",
   "mimetype": "text/x-python",
   "name": "python",
   "nbconvert_exporter": "python",
   "pygments_lexer": "ipython3",
   "version": "3.7.4"
  }
 },
 "nbformat": 4,
 "nbformat_minor": 2
}
