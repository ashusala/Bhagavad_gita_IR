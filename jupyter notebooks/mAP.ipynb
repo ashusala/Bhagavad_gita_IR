{
 "cells": [
  {
   "cell_type": "code",
   "execution_count": 5,
   "metadata": {},
   "outputs": [],
   "source": [
    "import pandas as pd\n",
    "import numpy as np"
   ]
  },
  {
   "cell_type": "code",
   "execution_count": 21,
   "metadata": {
    "scrolled": true
   },
   "outputs": [],
   "source": [
    "results =[['9.22', '9.19', '16.13-15'],\n",
    " ['8.1', '5.20', '6.3'],\n",
    " ['4.18', '2.65', '3.28'],\n",
    " ['1.36', '11.40', '11.39'],\n",
    " ['1.36', '2.35', '11.40'],\n",
    " ['17.15', '2.28', '6.17'],\n",
    " ['1.7', '5.1', '18.70'],\n",
    " ['18.63', '18.73', '9.22'],\n",
    " ['9.25', '1.42', '3.11'],\n",
    " ['15.5', '18.11', '2.44'],\n",
    " ['1.23', '18.63', '10.10'],\n",
    " ['18.63', '18.73', '9.22'],\n",
    " ['7.22', '4.7', '6.42'],\n",
    " ['10.33', '9.26', '10.30']]"
   ]
  },
  {
   "cell_type": "code",
   "execution_count": 22,
   "metadata": {},
   "outputs": [],
   "source": [
    "# fills up the above defined array with APs\n",
    "# query_df: a dataframe containing correct verse no for the respective queries\n",
    "# results: a list of list containing the verse no predicted by our model\n",
    "def mAP(query_df, results):\n",
    "    arr = []\n",
    "    count = 0\n",
    "    # looping over all the queries\n",
    "    for i in range(len(query_df)):\n",
    "        # the correct verse number\n",
    "        correct =  query_df.iloc[i]\n",
    "        # the query in process\n",
    "        #query = query_df.iloc[i,1]\n",
    "        # list of the top 3 results from our model\n",
    "        pred_list = results[i]\n",
    "        \n",
    "        #list_verse_pred = pred_df['#verse'].apply(lambda x: int(x)).to_list()\n",
    "        #for i in range(len(list_verse_pred)):\n",
    "        # assigning 0 scores to such queries\n",
    "        if correct not in pred_list:\n",
    "            arr.append(0)\n",
    "        else:\n",
    "            count += 1\n",
    "            print(query_df[i]  , correct  ,  pred_list)\n",
    "            ind = pred_list.index(correct)\n",
    "            if (ind == 0):\n",
    "                arr.append(1)\n",
    "            elif (ind == 1):\n",
    "                arr.append(1/2)\n",
    "            elif (ind == 2):\n",
    "                arr.append(1/3)\n",
    "        \n",
    "                \n",
    "                \n",
    "    mAP = sum(arr)/len(query_df)\n",
    "    print(\"Final mAP score of the model = \",mAP)\n",
    "    print(\"Number of answers the model could give = \",count)"
   ]
  },
  {
   "cell_type": "code",
   "execution_count": 23,
   "metadata": {},
   "outputs": [
    {
     "name": "stdout",
     "output_type": "stream",
     "text": [
      "10.10 10.10 ['1.23', '18.63', '10.10']\n",
      "Final mAP score of the model =  0.023809523809523808\n",
      "Number of answers the model could give =  1\n"
     ]
    }
   ],
   "source": [
    "df = pd.read_csv(\"queries_sem.csv\")\n",
    "df1 = df[\"VerseNo\"].apply(lambda x: x[1:] )\n",
    "mAP(df1,results)"
   ]
  },
  {
   "cell_type": "code",
   "execution_count": null,
   "metadata": {},
   "outputs": [],
   "source": []
  }
 ],
 "metadata": {
  "kernelspec": {
   "display_name": "Python 3",
   "language": "python",
   "name": "python3"
  },
  "language_info": {
   "codemirror_mode": {
    "name": "ipython",
    "version": 3
   },
   "file_extension": ".py",
   "mimetype": "text/x-python",
   "name": "python",
   "nbconvert_exporter": "python",
   "pygments_lexer": "ipython3",
   "version": "3.7.4"
  }
 },
 "nbformat": 4,
 "nbformat_minor": 2
}
