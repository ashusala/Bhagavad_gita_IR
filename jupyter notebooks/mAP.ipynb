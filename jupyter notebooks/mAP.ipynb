{
 "cells": [
  {
   "cell_type": "code",
   "execution_count": 1,
   "metadata": {},
   "outputs": [],
   "source": [
    "import pandas as pd\n",
    "import numpy as np"
   ]
  },
  {
   "cell_type": "code",
   "execution_count": 2,
   "metadata": {
    "scrolled": true
   },
   "outputs": [],
   "source": [
    "results =[['2.13', '8.23', '2.20'],\n",
    " ['2.14', '17.8', '13.27'],\n",
    " ['3.17', '2.56', '18.25'],\n",
    " ['14.27', '11.47', '18.62'],\n",
    " ['2.23', '2.20', '2.63'],\n",
    " ['2.24', '2.17', '15.10'],\n",
    " ['1.31', '2.12', '2.6'],\n",
    " ['2.40', '15.3-4', '3.5'],\n",
    " ['18.34', '13.20', '13.6-7'],\n",
    " ['2.54', '4.14', '6.37'],\n",
    " ['7.13', '14.5', '13.22'],\n",
    " ['2.46', '4.36', '7.30'],\n",
    " ['4.26', '4.27', '3.40'],\n",
    " ['4.37', '15.8', '8.26'],\n",
    " ['18.71', '3.4', '5.3'],\n",
    " ['2.69', '17.12', '13.27'],\n",
    " ['17.10', '3.13', '16.16'],\n",
    " ['3.37', '14.7', '13.24'],\n",
    " ['15.12', '14.17', '14.12'],\n",
    " ['9.3', '4.9', '2.27'],\n",
    " ['6.28', '4.39', '12.20'],\n",
    " ['8.17', '6.41', '16.19'],\n",
    " ['10.12-13', '14.1', '7.30'],\n",
    " ['14.26', '13.22', '5.21'],\n",
    " ['2.72', '1.11', '15.3-4'],\n",
    " ['18.42', '4.30', '18.18'],\n",
    " ['8.23', '15.3-4', '6.38'],\n",
    " ['7.4', '5.11', '13.6-7'],\n",
    " ['15.7', '5.11', '11.30'],\n",
    " ['13.24', '8.16', '4.37'],\n",
    " ['1.39', '8.4', '6.15'],\n",
    " ['2.62', '14.17', '16.1-3'],\n",
    " ['12.3-4', '8.13', '13.35'],\n",
    " ['13.22', '13.24', '14.5'],\n",
    " ['12.10', '18.50', '8.23'],\n",
    " ['1.31', '3.24', '12.10'],\n",
    " ['12.11', '12.10', '2.8'],\n",
    " ['2.69', '12.5', '6.36'],\n",
    " ['11.12', '4.29', '4.27'],\n",
    " ['10.6', '18.13', '18.36'],\n",
    " ['8.13', '14.27', '14.1'],\n",
    " ['8.26', '2.54', '2.40'],\n",
    " ['5.2', '5.6', '6.28'],\n",
    " ['5.29', '2.45', '18.19'],\n",
    " ['9.3', '18.50', '16.20']]"
   ]
  },
  {
   "cell_type": "code",
   "execution_count": 3,
   "metadata": {},
   "outputs": [],
   "source": [
    "# fills up the above defined array with APs\n",
    "# query_df: a dataframe containing correct verse no for the respective queries\n",
    "# results: a list of list containing the verse no predicted by our model\n",
    "def mAP(query_df, results):\n",
    "    arr = []\n",
    "    count = 0\n",
    "    # looping over all the queries\n",
    "    for i in range(len(query_df)):\n",
    "        # the correct verse number\n",
    "        correct =  query_df.iloc[i]\n",
    "        # the query in process\n",
    "        #query = query_df.iloc[i,1]\n",
    "        # list of the top 3 results from our model\n",
    "        pred_list = results[i]\n",
    "        \n",
    "        #list_verse_pred = pred_df['#verse'].apply(lambda x: int(x)).to_list()\n",
    "        #for i in range(len(list_verse_pred)):\n",
    "        # assigning 0 scores to such queries\n",
    "        if correct not in pred_list:\n",
    "            arr.append(0)\n",
    "        else:\n",
    "            count += 1\n",
    "            print(query_df[i]  , correct  ,  pred_list)\n",
    "            ind = pred_list.index(correct)\n",
    "            if (ind == 0):\n",
    "                arr.append(1)\n",
    "            elif (ind == 1):\n",
    "                arr.append(1/2)\n",
    "            elif (ind == 2):\n",
    "                arr.append(1/3)\n",
    "        \n",
    "                \n",
    "                \n",
    "    mAP = sum(arr)/len(query_df)\n",
    "    print(\"Final mAP score of the model = \",mAP)\n",
    "    print(\"Number of answers the model could give = \",count)"
   ]
  },
  {
   "cell_type": "code",
   "execution_count": 4,
   "metadata": {},
   "outputs": [
    {
     "name": "stdout",
     "output_type": "stream",
     "text": [
      "2.13 2.13 ['2.13', '8.23', '2.20']\n",
      "2.14 2.14 ['2.14', '17.8', '13.27']\n",
      "2.23 2.23 ['2.23', '2.20', '2.63']\n",
      "2.40 2.40 ['2.40', '15.3-4', '3.5']\n",
      "2.46 2.46 ['2.46', '4.36', '7.30']\n",
      "2.69 2.69 ['2.69', '17.12', '13.27']\n",
      "3.37 3.37 ['3.37', '14.7', '13.24']\n",
      "4.9 4.9 ['9.3', '4.9', '2.27']\n",
      "18.42 18.42 ['18.42', '4.30', '18.18']\n",
      "15.7 15.7 ['15.7', '5.11', '11.30']\n",
      "12.10 12.10 ['12.10', '18.50', '8.23']\n",
      "12.10 12.10 ['1.31', '3.24', '12.10']\n",
      "12.5 12.5 ['2.69', '12.5', '6.36']\n",
      "Final mAP score of the model =  0.2518518518518519\n",
      "Number of answers the model could give =  13\n"
     ]
    }
   ],
   "source": [
    "df = pd.read_csv(\"queries_syn.csv\")\n",
    "df1 = df[\"VerseNo\"].apply(lambda x: x[1:] )\n",
    "mAP(df1,results)"
   ]
  },
  {
   "cell_type": "code",
   "execution_count": null,
   "metadata": {},
   "outputs": [],
   "source": []
  }
 ],
 "metadata": {
  "kernelspec": {
   "display_name": "Python 3",
   "language": "python",
   "name": "python3"
  },
  "language_info": {
   "codemirror_mode": {
    "name": "ipython",
    "version": 3
   },
   "file_extension": ".py",
   "mimetype": "text/x-python",
   "name": "python",
   "nbconvert_exporter": "python",
   "pygments_lexer": "ipython3",
   "version": "3.7.4"
  }
 },
 "nbformat": 4,
 "nbformat_minor": 2
}
