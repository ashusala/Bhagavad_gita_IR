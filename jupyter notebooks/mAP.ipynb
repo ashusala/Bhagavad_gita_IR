{
 "cells": [
  {
   "cell_type": "code",
   "execution_count": 1,
   "metadata": {},
   "outputs": [],
   "source": [
    "import pandas as pd\n",
    "import numpy as np"
   ]
  },
  {
   "cell_type": "code",
   "execution_count": 3,
   "metadata": {
    "scrolled": true
   },
   "outputs": [],
   "source": [
    "results = [['2.13', '8.2', '5.14'],\n",
    " ['2.14', '8.1', '13.6-7'],\n",
    " ['2.20', '2.16', '15.17'],\n",
    " ['2.21', '10.12-13', '15.5'],\n",
    " ['2.23', '11.54', '13.32'],\n",
    " ['2.23', '2.24', '13.32'],\n",
    " ['2.30', '2.6', '3.18'],\n",
    " ['2.40', '15.10', '3.4'],\n",
    " ['2.44', '9.21', '16.16'],\n",
    " ['2.45', '8.1', '2.54'],\n",
    " ['13.20', '4.23', '7.13'],\n",
    " ['2.46', '7.30', '14.11'],\n",
    " ['4.26', '2.62', '4.27'],\n",
    " ['2.54', '2.63', '8.2'],\n",
    " ['2.64', '3.34', '18.45'],\n",
    " ['2.69', '8.1', '18.30'],\n",
    " ['17.10', '9.19', '3.14'],\n",
    " ['3.37', '4.12', '9.3'],\n",
    " ['4.7', '18.32', '11.12'],\n",
    " ['4.9', '9.3', '8.16'],\n",
    " ['8.9', '4.10', '13.23'],\n",
    " ['4.13', '15.2', '15.14'],\n",
    " ['4.34', '10.12-13', '9.18'],\n",
    " ['5.22', '6.4', '9.3'],\n",
    " ['2.72', '6.15', '18.55'],\n",
    " ['18.42', '18.22', '16.5'],\n",
    " ['15.15', '8.23', '18.71'],\n",
    " ['4.27', '15.7', '3.42'],\n",
    " ['15.7', '4.26', '18.18'],\n",
    " ['9.3', '15.6', '8.15'],\n",
    " ['9.18', '6.15', '15.5'],\n",
    " ['16.1-3', '10.4-5', '18.36'],\n",
    " ['14.26', '11.55', '7.30'],\n",
    " ['13.22', '13.20', '4.9'],\n",
    " ['18.50', '12.10', '18.45'],\n",
    " ['16.24', '12.10', '8.1'],\n",
    " ['12.9', '4.4', '2.54'],\n",
    " ['12.5', '4.19', '2.69'],\n",
    " ['11.54', '4.27', '18.29'],\n",
    " ['10.41', '10.32', '15.3-4'],\n",
    " ['14.27', '9.18', '9.17'],\n",
    " ['10.9', '3.35', '15.8'],\n",
    " ['10.8', '17.4', '18.55'],\n",
    " ['10.8', '7.6', '5.29'],\n",
    " ['9.32', '7.30', '8.2']]"
   ]
  },
  {
   "cell_type": "code",
   "execution_count": 61,
   "metadata": {},
   "outputs": [],
   "source": [
    "# fills up the above defined array with APs\n",
    "# query_df: a dataframe containing correct verse no for the respective queries\n",
    "# results: a list of list containing the verse no predicted by our model\n",
    "def mAP(query_df, results):\n",
    "    arr = []\n",
    "    count = 0\n",
    "    # looping over all the queries\n",
    "    for i in range(len(query_df)):\n",
    "        # the correct verse number\n",
    "        correct =  query_df.iloc[i]\n",
    "        # the query in process\n",
    "        #query = query_df.iloc[i,1]\n",
    "        # list of the top 3 results from our model\n",
    "        pred_list = results[i]\n",
    "        \n",
    "        #list_verse_pred = pred_df['#verse'].apply(lambda x: int(x)).to_list()\n",
    "        #for i in range(len(list_verse_pred)):\n",
    "        # assigning 0 scores to such queries\n",
    "        if correct not in pred_list:\n",
    "            arr.append(0)\n",
    "        else:\n",
    "            count += 1\n",
    "            print(query_df[i]  , correct  ,  pred_list)\n",
    "            ind = pred_list.index(correct)\n",
    "            if (ind == 0):\n",
    "                arr.append(1)\n",
    "            elif (ind == 1):\n",
    "                arr.append(1/2)\n",
    "            elif (ind == 2):\n",
    "                arr.append(1/3)\n",
    "        \n",
    "                \n",
    "                \n",
    "    mAP = sum(arr)/len(query_df)\n",
    "    print(\"Final mAP score of the model = \",mAP)\n",
    "    print(\"Number of answers the model could give = \",count)"
   ]
  },
  {
   "cell_type": "code",
   "execution_count": 62,
   "metadata": {},
   "outputs": [
    {
     "name": "stdout",
     "output_type": "stream",
     "text": [
      "2.13 2.13 ['2.13', '8.2', '5.14']\n",
      "2.14 2.14 ['2.14', '8.1', '13.6-7']\n",
      "2.20 2.20 ['2.20', '2.16', '15.17']\n",
      "2.23 2.23 ['2.23', '11.54', '13.32']\n",
      "2.23 2.23 ['2.23', '2.24', '13.32']\n",
      "2.30 2.30 ['2.30', '2.6', '3.18']\n",
      "2.40 2.40 ['2.40', '15.10', '3.4']\n",
      "2.44 2.44 ['2.44', '9.21', '16.16']\n",
      "2.45 2.45 ['2.45', '8.1', '2.54']\n",
      "2.46 2.46 ['2.46', '7.30', '14.11']\n",
      "2.62 2.62 ['4.26', '2.62', '4.27']\n",
      "2.63 2.63 ['2.54', '2.63', '8.2']\n",
      "2.64 2.64 ['2.64', '3.34', '18.45']\n",
      "2.69 2.69 ['2.69', '8.1', '18.30']\n",
      "3.14 3.14 ['17.10', '9.19', '3.14']\n",
      "3.37 3.37 ['3.37', '4.12', '9.3']\n",
      "4.7 4.7 ['4.7', '18.32', '11.12']\n",
      "4.9 4.9 ['4.9', '9.3', '8.16']\n",
      "4.10 4.10 ['8.9', '4.10', '13.23']\n",
      "4.13 4.13 ['4.13', '15.2', '15.14']\n",
      "4.34 4.34 ['4.34', '10.12-13', '9.18']\n",
      "5.22 5.22 ['5.22', '6.4', '9.3']\n",
      "18.55 18.55 ['2.72', '6.15', '18.55']\n",
      "18.42 18.42 ['18.42', '18.22', '16.5']\n",
      "15.15 15.15 ['15.15', '8.23', '18.71']\n",
      "15.7 15.7 ['4.27', '15.7', '3.42']\n",
      "15.7 15.7 ['15.7', '4.26', '18.18']\n",
      "15.6 15.6 ['9.3', '15.6', '8.15']\n",
      "15.5 15.5 ['9.18', '6.15', '15.5']\n",
      "14.26 14.26 ['14.26', '11.55', '7.30']\n",
      "12.10 12.10 ['18.50', '12.10', '18.45']\n",
      "12.10 12.10 ['16.24', '12.10', '8.1']\n",
      "12.9 12.9 ['12.9', '4.4', '2.54']\n",
      "12.5 12.5 ['12.5', '4.19', '2.69']\n",
      "11.54 11.54 ['11.54', '4.27', '18.29']\n",
      "10.41 10.41 ['10.41', '10.32', '15.3-4']\n",
      "10.9 10.9 ['10.9', '3.35', '15.8']\n",
      "10.8 10.8 ['10.8', '17.4', '18.55']\n",
      "10.8 10.8 ['10.8', '7.6', '5.29']\n",
      "9.32 9.32 ['9.32', '7.30', '8.2']\n",
      "Final mAP score of the model =  0.7666666666666667\n",
      "Number of answers the model could give =  40\n"
     ]
    }
   ],
   "source": [
    "df = pd.read_csv(\"queries_syn.csv\")\n",
    "df1 = df[\"VerseNo\"].apply(lambda x: x[1:] )\n",
    "mAP(df1,results)"
   ]
  },
  {
   "cell_type": "code",
   "execution_count": 43,
   "metadata": {},
   "outputs": [
    {
     "data": {
      "text/plain": [
       "'2'"
      ]
     },
     "execution_count": 43,
     "metadata": {},
     "output_type": "execute_result"
    }
   ],
   "source": [
    "df1.iloc[1][0]"
   ]
  }
 ],
 "metadata": {
  "kernelspec": {
   "display_name": "Python 3",
   "language": "python",
   "name": "python3"
  },
  "language_info": {
   "codemirror_mode": {
    "name": "ipython",
    "version": 3
   },
   "file_extension": ".py",
   "mimetype": "text/x-python",
   "name": "python",
   "nbconvert_exporter": "python",
   "pygments_lexer": "ipython3",
   "version": "3.7.4"
  }
 },
 "nbformat": 4,
 "nbformat_minor": 2
}
