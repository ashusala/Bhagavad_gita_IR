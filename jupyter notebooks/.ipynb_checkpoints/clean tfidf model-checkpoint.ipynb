{
 "cells": [
  {
   "cell_type": "code",
   "execution_count": 1,
   "metadata": {},
   "outputs": [
    {
     "data": {
      "text/html": [
       "<div>\n",
       "<style scoped>\n",
       "    .dataframe tbody tr th:only-of-type {\n",
       "        vertical-align: middle;\n",
       "    }\n",
       "\n",
       "    .dataframe tbody tr th {\n",
       "        vertical-align: top;\n",
       "    }\n",
       "\n",
       "    .dataframe thead th {\n",
       "        text-align: right;\n",
       "    }\n",
       "</style>\n",
       "<table border=\"1\" class=\"dataframe\">\n",
       "  <thead>\n",
       "    <tr style=\"text-align: right;\">\n",
       "      <th></th>\n",
       "      <th>#verse</th>\n",
       "      <th>Translation</th>\n",
       "    </tr>\n",
       "  </thead>\n",
       "  <tbody>\n",
       "    <tr>\n",
       "      <td>0</td>\n",
       "      <td>1.1:</td>\n",
       "      <td>Dhrtarastra said: O Sanjaya, after my sons and...</td>\n",
       "    </tr>\n",
       "    <tr>\n",
       "      <td>1</td>\n",
       "      <td>1.2:</td>\n",
       "      <td>Sanjaya said: O King, after looking over the a...</td>\n",
       "    </tr>\n",
       "    <tr>\n",
       "      <td>2</td>\n",
       "      <td>1.3:</td>\n",
       "      <td>O my teacher, behold the great army of the son...</td>\n",
       "    </tr>\n",
       "    <tr>\n",
       "      <td>3</td>\n",
       "      <td>1.4:</td>\n",
       "      <td>Here in this army are many heroic bowmen equal...</td>\n",
       "    </tr>\n",
       "    <tr>\n",
       "      <td>4</td>\n",
       "      <td>1.5:</td>\n",
       "      <td>There are also great heroic, powerful fighters...</td>\n",
       "    </tr>\n",
       "    <tr>\n",
       "      <td>...</td>\n",
       "      <td>...</td>\n",
       "      <td>...</td>\n",
       "    </tr>\n",
       "    <tr>\n",
       "      <td>652</td>\n",
       "      <td>18.74:</td>\n",
       "      <td>Sanjaya said: Thus have I heard the conversati...</td>\n",
       "    </tr>\n",
       "    <tr>\n",
       "      <td>653</td>\n",
       "      <td>18.75:</td>\n",
       "      <td>By the mercy of Vyasa, I have heard these most...</td>\n",
       "    </tr>\n",
       "    <tr>\n",
       "      <td>654</td>\n",
       "      <td>18.76:</td>\n",
       "      <td>O King, as I repeatedly recall this wondrous a...</td>\n",
       "    </tr>\n",
       "    <tr>\n",
       "      <td>655</td>\n",
       "      <td>18.77:</td>\n",
       "      <td>O King, as I remember the wonderful form of Lo...</td>\n",
       "    </tr>\n",
       "    <tr>\n",
       "      <td>656</td>\n",
       "      <td>18.78:</td>\n",
       "      <td>Wherever there is Krsna, the master of all mys...</td>\n",
       "    </tr>\n",
       "  </tbody>\n",
       "</table>\n",
       "<p>657 rows × 2 columns</p>\n",
       "</div>"
      ],
      "text/plain": [
       "     #verse                                        Translation\n",
       "0      1.1:  Dhrtarastra said: O Sanjaya, after my sons and...\n",
       "1      1.2:  Sanjaya said: O King, after looking over the a...\n",
       "2      1.3:  O my teacher, behold the great army of the son...\n",
       "3      1.4:  Here in this army are many heroic bowmen equal...\n",
       "4      1.5:  There are also great heroic, powerful fighters...\n",
       "..      ...                                                ...\n",
       "652  18.74:  Sanjaya said: Thus have I heard the conversati...\n",
       "653  18.75:  By the mercy of Vyasa, I have heard these most...\n",
       "654  18.76:  O King, as I repeatedly recall this wondrous a...\n",
       "655  18.77:  O King, as I remember the wonderful form of Lo...\n",
       "656  18.78:  Wherever there is Krsna, the master of all mys...\n",
       "\n",
       "[657 rows x 2 columns]"
      ]
     },
     "execution_count": 1,
     "metadata": {},
     "output_type": "execute_result"
    }
   ],
   "source": [
    "import pandas as pd\n",
    "import string\n",
    "\n",
    "# getting the data\n",
    "verses = pd.read_csv('verses.csv', usecols=['#verse', 'Translation'])\n",
    "data = verses['Translation'].to_list()\n",
    "\n",
    "verses"
   ]
  },
  {
   "cell_type": "code",
   "execution_count": 2,
   "metadata": {},
   "outputs": [],
   "source": [
<<<<<<< HEAD
    "\n",
=======
    "import pandas as pd\n",
>>>>>>> fd014c23ea0b4f5d4909932f2172ff8ba3e15cb1
    "from sklearn.feature_extraction.text import TfidfVectorizer\n",
    "\n",
    "# instantiating the model\n",
    "tfidf_vectorizer = TfidfVectorizer(use_idf=True)\n",
    "# applying in on data\n",
    "tfidf_vectors = tfidf_vectorizer.fit_transform(data)\n",
    "\n",
    "# feature_names\n",
    "feature_names = tfidf_vectorizer.get_feature_names()\n",
    "\n",
    "# putting it all together in a dataframe\n",
    "document_term_matrix = pd.DataFrame(tfidf_vectors.T.todense(), index = feature_names)"
   ]
  },
  {
   "cell_type": "code",
   "execution_count": 3,
   "metadata": {},
   "outputs": [],
   "source": [
    "# getting the queries\n",
    "df = pd.read_csv('queries_syn.csv')\n",
    "queries = df['Verse'].to_list()\n",
    "# pre-processing the queries\n",
    "queries = [query.rstrip().lower().translate(str.maketrans('','',string.punctuation)) for query in queries]"
   ]
  },
  {
   "cell_type": "code",
   "execution_count": 4,
   "metadata": {},
   "outputs": [],
   "source": [
    "# now let's move towars getting the answers for the queries\n",
    "f = open('best3_tfidf.txt','w+')\n",
    "results = []\n",
    "\n",
    "for query in queries:\n",
    "    # getting the common words between query and our features\n",
    "    common = set(query.split()).intersection(set(feature_names))\n",
    "\n",
    "    # getting the indices for top 3 documents\n",
    "    ind = document_term_matrix.loc[common].apply(sum).sort_values(ascending = False).head(3).index.to_list()\n",
    "    \n",
    "    # getting our results as a 2d list\n",
    "    results.append([verse_num.rstrip(':') for verse_num in verses.iloc[ind]['#verse'].to_list()])\n",
    "    \n",
    "\n",
    "    # printing the results in a file\n",
    "    f.write('For query:\\n' + '\"\"' + query + '\"\"' + '\\n\\n')\n",
    "    f.write('The Best 3 matching verses are:\\n')\n",
    "    for ind, i in enumerate(ind):\n",
    "        f.write(str(ind + 1) + ') ' + data[i] + '\\n\\n')"
   ]
  },
  {
   "cell_type": "code",
<<<<<<< HEAD
   "execution_count": 5,
=======
   "execution_count": 7,
>>>>>>> fd014c23ea0b4f5d4909932f2172ff8ba3e15cb1
   "metadata": {},
   "outputs": [
    {
     "data": {
      "text/plain": [
       "[['2.13', '8.2', '5.14'],\n",
       " ['2.14', '8.1', '13.6-7'],\n",
       " ['2.20', '2.16', '15.17'],\n",
       " ['2.21', '10.12-13', '15.5'],\n",
       " ['2.23', '11.54', '13.32'],\n",
       " ['2.23', '2.24', '13.32'],\n",
       " ['2.30', '2.6', '3.18'],\n",
       " ['2.40', '15.10', '3.4'],\n",
       " ['2.44', '9.21', '16.16'],\n",
       " ['2.45', '8.1', '2.54'],\n",
       " ['13.20', '4.23', '7.13'],\n",
       " ['2.46', '7.30', '14.11'],\n",
       " ['4.26', '2.62', '4.27'],\n",
       " ['2.54', '2.63', '8.2'],\n",
       " ['2.64', '3.34', '18.45'],\n",
       " ['2.69', '8.1', '18.30'],\n",
       " ['17.10', '9.19', '3.14'],\n",
       " ['3.37', '4.12', '9.3'],\n",
       " ['4.7', '18.32', '11.12'],\n",
       " ['4.9', '9.3', '8.16'],\n",
       " ['8.9', '4.10', '13.23'],\n",
       " ['4.13', '15.2', '15.14'],\n",
       " ['4.34', '10.12-13', '9.18'],\n",
<<<<<<< HEAD
       " ['5.22', '6.4', '9.3']]"
      ]
     },
     "execution_count": 5,
=======
       " ['5.22', '6.4', '9.3'],\n",
       " ['2.72', '6.15', '18.55'],\n",
       " ['18.42', '18.22', '16.5'],\n",
       " ['15.15', '8.23', '18.71'],\n",
       " ['4.27', '15.7', '3.42'],\n",
       " ['15.7', '4.26', '18.18'],\n",
       " ['9.3', '15.6', '8.15'],\n",
       " ['9.18', '6.15', '15.5'],\n",
       " ['16.1-3', '10.4-5', '18.36'],\n",
       " ['14.26', '11.55', '7.30'],\n",
       " ['13.22', '13.20', '4.9'],\n",
       " ['18.50', '12.10', '18.45'],\n",
       " ['16.24', '12.10', '8.1'],\n",
       " ['12.9', '4.4', '2.54'],\n",
       " ['12.5', '4.19', '2.69'],\n",
       " ['11.54', '4.27', '18.29'],\n",
       " ['10.41', '10.32', '15.3-4'],\n",
       " ['14.27', '9.18', '9.17'],\n",
       " ['10.9', '3.35', '15.8'],\n",
       " ['10.8', '17.4', '18.55'],\n",
       " ['10.8', '7.6', '5.29'],\n",
       " ['9.32', '7.30', '8.2']]"
      ]
     },
     "execution_count": 7,
>>>>>>> fd014c23ea0b4f5d4909932f2172ff8ba3e15cb1
     "metadata": {},
     "output_type": "execute_result"
    }
   ],
   "source": [
    "results"
   ]
  },
  {
   "cell_type": "code",
   "execution_count": null,
   "metadata": {},
   "outputs": [],
   "source": []
  }
 ],
 "metadata": {
  "kernelspec": {
   "display_name": "Python 3",
   "language": "python",
   "name": "python3"
  },
  "language_info": {
   "codemirror_mode": {
    "name": "ipython",
    "version": 3
   },
   "file_extension": ".py",
   "mimetype": "text/x-python",
   "name": "python",
   "nbconvert_exporter": "python",
   "pygments_lexer": "ipython3",
   "version": "3.7.4"
  }
 },
 "nbformat": 4,
 "nbformat_minor": 2
}
