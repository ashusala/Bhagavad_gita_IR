{
 "cells": [
  {
   "cell_type": "code",
   "execution_count": 1,
   "metadata": {},
   "outputs": [],
   "source": [
    "import pandas as pd\n",
    "import numpy as np"
   ]
  },
  {
   "cell_type": "code",
   "execution_count": 3,
   "metadata": {
    "scrolled": true
   },
   "outputs": [],
   "source": [
    "results = [['2.13', '8.2', '5.14'],\n",
    " ['2.14', '8.1', '13.6-7'],\n",
    " ['2.20', '2.16', '15.17'],\n",
    " ['2.21', '10.12-13', '15.5'],\n",
    " ['2.23', '11.54', '13.32'],\n",
    " ['2.23', '2.24', '13.32'],\n",
    " ['2.30', '2.6', '3.18'],\n",
    " ['2.40', '15.10', '3.4'],\n",
    " ['2.44', '9.21', '16.16'],\n",
    " ['2.45', '8.1', '2.54'],\n",
    " ['13.20', '4.23', '7.13'],\n",
    " ['2.46', '7.30', '14.11'],\n",
    " ['4.26', '2.62', '4.27'],\n",
    " ['2.54', '2.63', '8.2'],\n",
    " ['2.64', '3.34', '18.45'],\n",
    " ['2.69', '8.1', '18.30'],\n",
    " ['17.10', '9.19', '3.14'],\n",
    " ['3.37', '4.12', '9.3'],\n",
    " ['4.7', '18.32', '11.12'],\n",
    " ['4.9', '9.3', '8.16'],\n",
    " ['8.9', '4.10', '13.23'],\n",
    " ['4.13', '15.2', '15.14'],\n",
    " ['4.34', '10.12-13', '9.18'],\n",
    " ['5.22', '6.4', '9.3'],\n",
    " ['2.72', '6.15', '18.55'],\n",
    " ['18.42', '18.22', '16.5'],\n",
    " ['15.15', '8.23', '18.71'],\n",
    " ['4.27', '15.7', '3.42'],\n",
    " ['15.7', '4.26', '18.18'],\n",
    " ['9.3', '15.6', '8.15'],\n",
    " ['9.18', '6.15', '15.5'],\n",
    " ['16.1-3', '10.4-5', '18.36'],\n",
    " ['14.26', '11.55', '7.30'],\n",
    " ['13.22', '13.20', '4.9'],\n",
    " ['18.50', '12.10', '18.45'],\n",
    " ['16.24', '12.10', '8.1'],\n",
    " ['12.9', '4.4', '2.54'],\n",
    " ['12.5', '4.19', '2.69'],\n",
    " ['11.54', '4.27', '18.29'],\n",
    " ['10.41', '10.32', '15.3-4'],\n",
    " ['14.27', '9.18', '9.17'],\n",
    " ['10.9', '3.35', '15.8'],\n",
    " ['10.8', '17.4', '18.55'],\n",
    " ['10.8', '7.6', '5.29'],\n",
    " ['9.32', '7.30', '8.2']]"
   ]
  },
  {
   "cell_type": "code",
   "execution_count": 48,
   "metadata": {},
   "outputs": [],
   "source": [
    "count = 0"
   ]
  },
  {
   "cell_type": "code",
   "execution_count": 49,
   "metadata": {},
   "outputs": [],
   "source": [
    "# a list to conatain all the APs (Average Precision) of queries\n",
    "arr = []\n",
    "\n",
    "\n",
    "# fills up the above defined array with APs\n",
    "# query_df: a dataframe containing correct verse no for the respective queries\n",
    "# results: a list of list containing the verse no predicted by our model\n",
    "def mAP(query_df, results):\n",
    "    arr = []\n",
    "    count = 0\n",
    "    # looping over all the queries\n",
    "    for i in range(len(query_df)):\n",
    "        # the correct verse number\n",
    "        correct =  query_df.iloc[i]\n",
    "        # the query in process\n",
    "        #query = query_df.iloc[i,1]\n",
    "        # list of the top 3 results from our model\n",
    "        pred_list = results[i]\n",
    "        \n",
    "        #list_verse_pred = pred_df['#verse'].apply(lambda x: int(x)).to_list()\n",
    "        #for i in range(len(list_verse_pred)):\n",
    "        # assigning 0 scores to such queries\n",
    "        if correct not in pred_list:\n",
    "            arr.append(0)\n",
    "        else:\n",
    "            count += 1\n",
    "            ind = pred_list.index(correct)\n",
    "            if (ind == 0):\n",
    "                arr.append(1)\n",
    "            elif (ind == 1):\n",
    "                arr.append(1/2)\n",
    "            elif (ind == 2):\n",
    "                arr.append(1/3)\n",
    "        \n",
    "                \n",
    "                \n",
    "    mAP = sum(arr)/len(query_df)\n",
    "    print(\"Final mAP score of the model = \",mAP)\n",
    "    print(\"Number of answers the model could give = \",count)"
   ]
  },
  {
   "cell_type": "code",
   "execution_count": 50,
   "metadata": {},
   "outputs": [
    {
     "ename": "UnboundLocalError",
     "evalue": "local variable 'count' referenced before assignment",
     "output_type": "error",
     "traceback": [
      "\u001b[1;31m---------------------------------------------------------------------------\u001b[0m",
      "\u001b[1;31mUnboundLocalError\u001b[0m                         Traceback (most recent call last)",
      "\u001b[1;32m<ipython-input-50-be481a55acf6>\u001b[0m in \u001b[0;36m<module>\u001b[1;34m\u001b[0m\n\u001b[0;32m      1\u001b[0m \u001b[0mdf\u001b[0m \u001b[1;33m=\u001b[0m \u001b[0mpd\u001b[0m\u001b[1;33m.\u001b[0m\u001b[0mread_csv\u001b[0m\u001b[1;33m(\u001b[0m\u001b[1;34m\"queries_syn.csv\"\u001b[0m\u001b[1;33m)\u001b[0m\u001b[1;33m\u001b[0m\u001b[1;33m\u001b[0m\u001b[0m\n\u001b[0;32m      2\u001b[0m \u001b[0mdf1\u001b[0m \u001b[1;33m=\u001b[0m \u001b[0mdf\u001b[0m\u001b[1;33m[\u001b[0m\u001b[1;34m\"VerseNo\"\u001b[0m\u001b[1;33m]\u001b[0m\u001b[1;33m.\u001b[0m\u001b[0mapply\u001b[0m\u001b[1;33m(\u001b[0m\u001b[1;32mlambda\u001b[0m \u001b[0mx\u001b[0m\u001b[1;33m:\u001b[0m \u001b[0mx\u001b[0m\u001b[1;33m[\u001b[0m\u001b[1;36m1\u001b[0m\u001b[1;33m:\u001b[0m\u001b[1;33m]\u001b[0m \u001b[1;33m)\u001b[0m\u001b[1;33m\u001b[0m\u001b[1;33m\u001b[0m\u001b[0m\n\u001b[1;32m----> 3\u001b[1;33m \u001b[0mmAP\u001b[0m\u001b[1;33m(\u001b[0m\u001b[0mdf1\u001b[0m\u001b[1;33m,\u001b[0m\u001b[0mresults\u001b[0m\u001b[1;33m)\u001b[0m\u001b[1;33m\u001b[0m\u001b[1;33m\u001b[0m\u001b[0m\n\u001b[0m",
      "\u001b[1;32m<ipython-input-49-754fea8b6db3>\u001b[0m in \u001b[0;36mmAP\u001b[1;34m(query_df, results)\u001b[0m\n\u001b[0;32m     22\u001b[0m             \u001b[0marr\u001b[0m\u001b[1;33m.\u001b[0m\u001b[0mappend\u001b[0m\u001b[1;33m(\u001b[0m\u001b[1;36m0\u001b[0m\u001b[1;33m)\u001b[0m\u001b[1;33m\u001b[0m\u001b[1;33m\u001b[0m\u001b[0m\n\u001b[0;32m     23\u001b[0m         \u001b[1;32melse\u001b[0m\u001b[1;33m:\u001b[0m\u001b[1;33m\u001b[0m\u001b[1;33m\u001b[0m\u001b[0m\n\u001b[1;32m---> 24\u001b[1;33m             \u001b[0mcount\u001b[0m \u001b[1;33m+=\u001b[0m \u001b[1;36m1\u001b[0m\u001b[1;33m\u001b[0m\u001b[1;33m\u001b[0m\u001b[0m\n\u001b[0m\u001b[0;32m     25\u001b[0m             \u001b[0mind\u001b[0m \u001b[1;33m=\u001b[0m \u001b[0mpred_list\u001b[0m\u001b[1;33m.\u001b[0m\u001b[0mindex\u001b[0m\u001b[1;33m(\u001b[0m\u001b[0mcorrect\u001b[0m\u001b[1;33m)\u001b[0m\u001b[1;33m\u001b[0m\u001b[1;33m\u001b[0m\u001b[0m\n\u001b[0;32m     26\u001b[0m             \u001b[1;32mif\u001b[0m \u001b[1;33m(\u001b[0m\u001b[0mind\u001b[0m \u001b[1;33m==\u001b[0m \u001b[1;36m0\u001b[0m\u001b[1;33m)\u001b[0m\u001b[1;33m:\u001b[0m\u001b[1;33m\u001b[0m\u001b[1;33m\u001b[0m\u001b[0m\n",
      "\u001b[1;31mUnboundLocalError\u001b[0m: local variable 'count' referenced before assignment"
     ]
    }
   ],
   "source": [
    "df = pd.read_csv(\"queries_syn.csv\")\n",
    "df1 = df[\"VerseNo\"].apply(lambda x: x[1:] )\n",
    "mAP(df1,results)"
   ]
  },
  {
   "cell_type": "code",
   "execution_count": 43,
   "metadata": {},
   "outputs": [
    {
     "data": {
      "text/plain": [
       "'2'"
      ]
     },
     "execution_count": 43,
     "metadata": {},
     "output_type": "execute_result"
    }
   ],
   "source": [
    "df1.iloc[1][0]"
   ]
  },
  {
   "cell_type": "code",
   "execution_count": null,
   "metadata": {},
   "outputs": [],
   "source": []
  }
 ],
 "metadata": {
  "kernelspec": {
   "display_name": "Python 3",
   "language": "python",
   "name": "python3"
  },
  "language_info": {
   "codemirror_mode": {
    "name": "ipython",
    "version": 3
   },
   "file_extension": ".py",
   "mimetype": "text/x-python",
   "name": "python",
   "nbconvert_exporter": "python",
   "pygments_lexer": "ipython3",
   "version": "3.7.4"
  }
 },
 "nbformat": 4,
 "nbformat_minor": 2
}
