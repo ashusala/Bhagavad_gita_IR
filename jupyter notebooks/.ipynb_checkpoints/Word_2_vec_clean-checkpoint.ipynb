{
 "cells": [
  {
   "cell_type": "code",
   "execution_count": 137,
   "metadata": {},
   "outputs": [],
   "source": [
    "#import important libraries\n",
    "from nltk import sent_tokenize, word_tokenize\n",
    "from gensim.models import Word2Vec \n",
    "from numpy.linalg import norm\n",
    "from numpy import dot\n",
    "import string\n",
    "import pandas as pd\n",
    "import numpy as np\n",
    "import gensim"
   ]
  },
  {
   "cell_type": "code",
   "execution_count": 138,
   "metadata": {},
   "outputs": [],
   "source": [
    "sample = open('data_preprocessed.txt','r')\n",
    "s = sample.read()\n",
    "f = s.replace('\\n', ' ')"
   ]
  },
  {
   "cell_type": "code",
   "execution_count": 139,
   "metadata": {},
   "outputs": [],
   "source": [
    "#prepare data for Word2Vec model\n",
    "data = []\n",
    "\n",
    "# iterate through each sentence in the file\n",
    "for i in sent_tokenize(f):\n",
    "    temp = []\n",
    "    \n",
    "    # tokenize the setence into words\n",
    "    for j in word_tokenize(i):\n",
    "        temp.append(j)\n",
    "        \n",
    "    data.append(temp)"
   ]
  },
  {
   "cell_type": "code",
   "execution_count": 140,
   "metadata": {},
   "outputs": [],
   "source": [
    "# train the model\n",
    "model = gensim.models.Word2Vec(data, min_count = 1, size = 100, window = 3)"
   ]
  },
  {
   "cell_type": "code",
   "execution_count": 141,
   "metadata": {},
   "outputs": [],
   "source": [
    "#function to get the word frequency of each word in a verse/sentence\n",
    "\n",
    "# list_of_words: a pre-processed list of words in a verse/sentence.\n",
    "def word_count(list_of_words):\n",
    "    \n",
    "    #dictionary keeping frequency for all the unique words\n",
    "    counts = dict()\n",
    "    \n",
    "    for word in list_of_words:\n",
    "        #if word already listed, increase its count\n",
    "        if word in counts:\n",
    "            counts[word] += 1\n",
    "        # else putting the new word in dictionary\n",
    "        else:\n",
    "            counts[word] = 1\n",
    "\n",
    "    return counts"
   ]
  },
  {
   "cell_type": "code",
   "execution_count": 142,
   "metadata": {},
   "outputs": [],
   "source": [
    "#function to calculate composite sentence/verse embeddings\n",
    "#verse to be given in tokenzied format to func.\n",
    "def senemb(alpha, verse_tok, model, dim):\n",
    "    # create an empty vector\n",
    "    sentEmb = np.zeros(dim)\n",
    "    v_count = word_count(verse_tok)\n",
    "    \n",
    "    for word in verse_tok:\n",
    "        prob = alpha / (alpha + v_count[word]/len(verse))\n",
    "        sentEmb = sentEmb +  model.wv[word]  * prob\n",
    "        \n",
    "    return sentEmb/len(verse)"
   ]
  },
  {
   "cell_type": "code",
   "execution_count": 143,
   "metadata": {},
   "outputs": [],
   "source": [
    "#sentence embedding for verses\n",
    "\n",
    "verses = pd.read_csv('verses.csv', usecols=['#verse', 'Translation'])\n",
    "data = verses['Translation'].to_list()\n",
    "\n",
    "#list to store all the vectors\n",
    "verse_vectors = []\n",
    "\n",
    "# loop over all the verses\n",
    "for verse in data:\n",
    "    # tokenize and preprocess the verse\n",
    "    verse_tok = word_tokenize(verse.lower().translate(str.maketrans('','',string.punctuation)))\n",
    "    verse_vectors.append(senemb(1, verse_tok, model, 100))    "
   ]
  },
  {
   "cell_type": "code",
   "execution_count": 144,
   "metadata": {},
   "outputs": [],
   "source": [
    "# Here we calculate the sentence embedding vectors for queries\n",
    "\n",
    "# getting the queries\n",
    "df = pd.read_csv('queries_syn.csv')\n",
    "queries = df['Verse'].to_list()\n",
    "\n",
    "# pre-processing the queries\n",
    "queries = [query.lower().translate(str.maketrans('','',string.punctuation)).split() for query in queries]\n",
    "\n",
    "# a list to store all the vectors\n",
    "query_vectors = []\n",
    "\n",
    "for query in queries:\n",
    "    query_vectors.append(senemb(1, query, model, 100))"
   ]
  },
  {
   "cell_type": "code",
   "execution_count": 145,
   "metadata": {},
   "outputs": [],
   "source": [
    "#list1: to store cos. sim. of each query with the verses\n",
    "list1 = []\n",
    "\n",
    "for i in query_vectors:\n",
    "    list2 = []\n",
    "    for j in verse_vectors:\n",
    "        d= (dot(i , j))/(norm(i)*norm(j))\n",
    "        list2.append(d)\n",
    "    list1.append(list2)"
   ]
  },
  {
   "cell_type": "code",
   "execution_count": 146,
   "metadata": {},
   "outputs": [],
   "source": [
    "#list3: to store verse nos. of top three verses for each query\n",
    "#to be put as results in mAP fun.\n",
    "list3 = []\n",
    "\n",
    "for i in list1:\n",
    "    list4 = []\n",
    "    \n",
    "    #take three elements with highest scores   \n",
    "    for ele in sorted(i)[:-4:-1]:\n",
    "        list4.append(verses.iloc[i.index(ele)][0].replace(\":\",\"\"))\n",
    "    list3.append(list4)"
   ]
  }
 ],
 "metadata": {
  "kernelspec": {
   "display_name": "Python 3",
   "language": "python",
   "name": "python3"
  },
  "language_info": {
   "codemirror_mode": {
    "name": "ipython",
    "version": 3
   },
   "file_extension": ".py",
   "mimetype": "text/x-python",
   "name": "python",
   "nbconvert_exporter": "python",
   "pygments_lexer": "ipython3",
   "version": "3.7.4"
  }
 },
 "nbformat": 4,
 "nbformat_minor": 2
}
