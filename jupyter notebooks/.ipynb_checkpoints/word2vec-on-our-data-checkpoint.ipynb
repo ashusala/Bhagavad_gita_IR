{
 "cells": [
  {
   "cell_type": "code",
   "execution_count": 2,
   "metadata": {},
   "outputs": [],
   "source": [
    "from nltk import sent_tokenize, word_tokenize"
   ]
  },
  {
   "cell_type": "code",
   "execution_count": 3,
   "metadata": {},
   "outputs": [],
   "source": [
    "import sklearn"
   ]
  },
  {
   "cell_type": "code",
   "execution_count": 4,
   "metadata": {},
   "outputs": [],
   "source": [
    "from numpy import dot\n",
    "from numpy.linalg import norm"
   ]
  },
  {
   "cell_type": "code",
   "execution_count": 5,
   "metadata": {},
   "outputs": [],
   "source": [
    "import string"
   ]
  },
  {
   "cell_type": "code",
   "execution_count": 6,
   "metadata": {},
   "outputs": [],
   "source": [
    "import gensim \n",
    "from gensim.models import Word2Vec "
   ]
  },
  {
   "cell_type": "code",
   "execution_count": 12,
   "metadata": {},
   "outputs": [],
   "source": [
    "sample = open('data_preprocessed.txt','r')\n",
    "s = sample.read()\n",
    "f = s.replace('\\n', ' ')"
   ]
  },
  {
   "cell_type": "code",
   "execution_count": 13,
   "metadata": {},
   "outputs": [
    {
     "data": {
      "text/plain": [
       "19782938"
      ]
     },
     "execution_count": 13,
     "metadata": {},
     "output_type": "execute_result"
    }
   ],
   "source": [
    "len(f)"
   ]
  },
  {
   "cell_type": "code",
   "execution_count": 14,
   "metadata": {},
   "outputs": [],
   "source": [
    "data = []\n",
    "\n",
    "# iterate through each sentence in the file\n",
    "for i in sent_tokenize(f):\n",
    "\n",
    "    i_new = i.translate(str.maketrans('', '', string.punctuation)) # remove unnecessary punctuations\n",
    "    \n",
    "    temp = []\n",
    "    \n",
    "    # tokenize the setence into words\n",
    "    for j in word_tokenize(i_new):\n",
    "        temp.append(j.lower())\n",
    "        \n",
    "    data.append(temp)\n"
   ]
  },
  {
   "cell_type": "code",
   "execution_count": null,
   "metadata": {},
   "outputs": [],
   "source": [
    "# creating a CBOW model\n",
    "model = gensim.models.Word2Vec(data, min_count = 1, size = 100, window = 3) #epoch parameter tuning"
   ]
  },
  {
   "cell_type": "code",
   "execution_count": null,
   "metadata": {},
   "outputs": [],
   "source": [
    "#model.similar_by_word('god')\n",
    "len(model.wv.vocab) #initially 19,402 -> 30,765"
   ]
  },
  {
   "cell_type": "code",
   "execution_count": null,
   "metadata": {},
   "outputs": [],
   "source": [
    "# a function to count the frequency of words\n",
    "def word_count(str):\n",
    "    counts = dict()\n",
    "    \n",
    "    for word in str:\n",
    "        if word in counts:\n",
    "            counts[word] += 1\n",
    "        else:\n",
    "            counts[word] = 1\n",
    "\n",
    "    return counts"
   ]
  },
  {
   "cell_type": "code",
   "execution_count": null,
   "metadata": {},
   "outputs": [],
   "source": [
    "import numpy as np\n",
    "\n",
    "def senemb(alpha, verse, model):\n",
    "\n",
    "    sentEmb = np.zeros(100)\n",
    "    v_count = word_count(verse)\n",
    "    \n",
    "    for word in verse:\n",
    "        prob = alpha / (alpha + v_count[word]/len(verse))\n",
    "        sentEmb = sentEmb +  model[word] * prob\n",
    "        \n",
    "    return sentEmb/len(verse)"
   ]
  },
  {
   "cell_type": "code",
   "execution_count": null,
   "metadata": {},
   "outputs": [],
   "source": [
    "import pandas as pd\n",
    "import string\n",
    "\n",
    "df = pd.read_csv('data_translations.csv', usecols = ['#verse','Translation'])\n",
    "\n",
    "verseNum_ = list(df['#verse'])\n",
    "trans_ = list(df['Translation'])\n",
    "\n",
    "trans = []\n",
    "\n",
    "for each in trans_:\n",
    "    trans.append(each.lower())\n",
    "\n",
    "transNew = [i.translate(str.maketrans('', '', string.punctuation)) for i in trans] # remove unnecessary punctuations\n",
    "verseNum = []\n",
    "\n",
    "for num in verseNum_:\n",
    "    num = num[0:len(num)-1]\n",
    "    verseNum.append(num)\n",
    "    \n",
    "verse_map = dict(zip(transNew,verseNum))\n",
    "#verse_map"
   ]
  },
  {
   "cell_type": "code",
   "execution_count": null,
   "metadata": {},
   "outputs": [],
   "source": [
    "senVect = {}\n",
    "\n",
    "for verse in verse_map:\n",
    "    try: senVect[verse_map[verse]] = senemb(1, word_tokenize(verse), model)\n",
    "    except Exception as e: print(e)"
   ]
  },
  {
   "cell_type": "code",
   "execution_count": null,
   "metadata": {},
   "outputs": [],
   "source": [
    "vocab = list(model.wv.vocab)"
   ]
  },
  {
   "cell_type": "code",
   "execution_count": 8,
   "metadata": {},
   "outputs": [],
   "source": [
    "#test query\n",
    "query = 'boyhood to youth'"
   ]
  },
  {
   "cell_type": "code",
   "execution_count": 9,
   "metadata": {},
   "outputs": [],
   "source": [
    "query_list = query.split()"
   ]
  },
  {
   "cell_type": "code",
   "execution_count": 10,
   "metadata": {},
   "outputs": [
    {
     "ename": "NameError",
     "evalue": "name 'vocab' is not defined",
     "output_type": "error",
     "traceback": [
      "\u001b[0;31m---------------------------------------------------------------------------\u001b[0m",
      "\u001b[0;31mNameError\u001b[0m                                 Traceback (most recent call last)",
      "\u001b[0;32m<ipython-input-10-1602b496bbb2>\u001b[0m in \u001b[0;36m<module>\u001b[0;34m\u001b[0m\n\u001b[1;32m      1\u001b[0m \u001b[0mquery_trans\u001b[0m \u001b[0;34m=\u001b[0m \u001b[0;34m[\u001b[0m\u001b[0;34m]\u001b[0m\u001b[0;34m\u001b[0m\u001b[0;34m\u001b[0m\u001b[0m\n\u001b[1;32m      2\u001b[0m \u001b[0;32mfor\u001b[0m \u001b[0mele\u001b[0m \u001b[0;32min\u001b[0m \u001b[0mquery_list\u001b[0m\u001b[0;34m:\u001b[0m\u001b[0;34m\u001b[0m\u001b[0;34m\u001b[0m\u001b[0m\n\u001b[0;32m----> 3\u001b[0;31m     \u001b[0;32mif\u001b[0m \u001b[0mele\u001b[0m \u001b[0;32min\u001b[0m \u001b[0mvocab\u001b[0m\u001b[0;34m:\u001b[0m\u001b[0;34m\u001b[0m\u001b[0;34m\u001b[0m\u001b[0m\n\u001b[0m\u001b[1;32m      4\u001b[0m         \u001b[0mquery_trans\u001b[0m\u001b[0;34m.\u001b[0m\u001b[0mappend\u001b[0m\u001b[0;34m(\u001b[0m\u001b[0mele\u001b[0m\u001b[0;34m)\u001b[0m\u001b[0;34m\u001b[0m\u001b[0;34m\u001b[0m\u001b[0m\n",
      "\u001b[0;31mNameError\u001b[0m: name 'vocab' is not defined"
     ]
    }
   ],
   "source": [
    "query_trans = []\n",
    "for ele in query_list:\n",
    "    if ele in vocab:\n",
    "        query_trans.append(ele)"
   ]
  },
  {
   "cell_type": "code",
   "execution_count": 11,
   "metadata": {},
   "outputs": [
    {
     "ename": "NameError",
     "evalue": "name 'senemb' is not defined",
     "output_type": "error",
     "traceback": [
      "\u001b[0;31m---------------------------------------------------------------------------\u001b[0m",
      "\u001b[0;31mNameError\u001b[0m                                 Traceback (most recent call last)",
      "\u001b[0;32m<ipython-input-11-20ced05607d7>\u001b[0m in \u001b[0;36m<module>\u001b[0;34m\u001b[0m\n\u001b[0;32m----> 1\u001b[0;31m \u001b[0mquery_emb\u001b[0m \u001b[0;34m=\u001b[0m \u001b[0msenemb\u001b[0m\u001b[0;34m(\u001b[0m\u001b[0;36m1\u001b[0m \u001b[0;34m,\u001b[0m \u001b[0mquery_trans\u001b[0m \u001b[0;34m,\u001b[0m \u001b[0mmodel\u001b[0m\u001b[0;34m)\u001b[0m\u001b[0;34m\u001b[0m\u001b[0;34m\u001b[0m\u001b[0m\n\u001b[0m",
      "\u001b[0;31mNameError\u001b[0m: name 'senemb' is not defined"
     ]
    }
   ],
   "source": [
    "query_emb = senemb(1 , query_trans , model)"
   ]
  },
  {
   "cell_type": "code",
   "execution_count": 20,
   "metadata": {},
   "outputs": [],
   "source": [
    "x = list(senVect.items())\n",
    "#sklearn.metrics.pairwise.cosine_similarity(X, Y, dense_output=True)"
   ]
  },
  {
   "cell_type": "code",
   "execution_count": 1,
   "metadata": {},
   "outputs": [
    {
     "ename": "NameError",
     "evalue": "name 'senVect' is not defined",
     "output_type": "error",
     "traceback": [
      "\u001b[0;31m---------------------------------------------------------------------------\u001b[0m",
      "\u001b[0;31mNameError\u001b[0m                                 Traceback (most recent call last)",
      "\u001b[0;32m<ipython-input-1-0c187f310ada>\u001b[0m in \u001b[0;36m<module>\u001b[0;34m\u001b[0m\n\u001b[0;32m----> 1\u001b[0;31m \u001b[0msenVect\u001b[0m\u001b[0;34m\u001b[0m\u001b[0;34m\u001b[0m\u001b[0m\n\u001b[0m",
      "\u001b[0;31mNameError\u001b[0m: name 'senVect' is not defined"
     ]
    }
   ],
   "source": [
    "senVect"
   ]
  },
  {
   "cell_type": "code",
   "execution_count": 21,
   "metadata": {},
   "outputs": [],
   "source": [
    "scores = []"
   ]
  },
  {
   "cell_type": "code",
   "execution_count": 22,
   "metadata": {},
   "outputs": [],
   "source": [
    "for i in range(len(senVect)):\n",
    "    a = list(senVect.items())[i][1]\n",
    "#     print(a)\n",
    "#     print(query_emb)\n",
    "    b= (dot(a , query_emb))/(norm(a)*norm(query_emb))\n",
    "    #print(b)\n",
    "    scores.append(b)\n",
    "\n"
   ]
  },
  {
   "cell_type": "code",
   "execution_count": 23,
   "metadata": {},
   "outputs": [
    {
     "data": {
      "text/html": [
       "<div>\n",
       "<style scoped>\n",
       "    .dataframe tbody tr th:only-of-type {\n",
       "        vertical-align: middle;\n",
       "    }\n",
       "\n",
       "    .dataframe tbody tr th {\n",
       "        vertical-align: top;\n",
       "    }\n",
       "\n",
       "    .dataframe thead th {\n",
       "        text-align: right;\n",
       "    }\n",
       "</style>\n",
       "<table border=\"1\" class=\"dataframe\">\n",
       "  <thead>\n",
       "    <tr style=\"text-align: right;\">\n",
       "      <th></th>\n",
       "      <th>#verse</th>\n",
       "      <th>Translation</th>\n",
       "      <th>0</th>\n",
       "    </tr>\n",
       "  </thead>\n",
       "  <tbody>\n",
       "    <tr>\n",
       "      <td>0</td>\n",
       "      <td>1.1:</td>\n",
       "      <td>Dhrtarastra said: O Sanjaya, after my sons and...</td>\n",
       "      <td>0.441609</td>\n",
       "    </tr>\n",
       "    <tr>\n",
       "      <td>1</td>\n",
       "      <td>1.2:</td>\n",
       "      <td>Sanjaya said: O King, after looking over the a...</td>\n",
       "      <td>0.354825</td>\n",
       "    </tr>\n",
       "    <tr>\n",
       "      <td>2</td>\n",
       "      <td>1.3:</td>\n",
       "      <td>O my teacher, behold the great army of the son...</td>\n",
       "      <td>0.188103</td>\n",
       "    </tr>\n",
       "    <tr>\n",
       "      <td>3</td>\n",
       "      <td>1.4:</td>\n",
       "      <td>Here in this army are many heroic bowmen equal...</td>\n",
       "      <td>0.415430</td>\n",
       "    </tr>\n",
       "    <tr>\n",
       "      <td>4</td>\n",
       "      <td>1.5:</td>\n",
       "      <td>There are also great heroic, powerful fighters...</td>\n",
       "      <td>0.091340</td>\n",
       "    </tr>\n",
       "    <tr>\n",
       "      <td>...</td>\n",
       "      <td>...</td>\n",
       "      <td>...</td>\n",
       "      <td>...</td>\n",
       "    </tr>\n",
       "    <tr>\n",
       "      <td>652</td>\n",
       "      <td>18.74:</td>\n",
       "      <td>Sanjaya said: Thus have I heard the conversati...</td>\n",
       "      <td>0.258383</td>\n",
       "    </tr>\n",
       "    <tr>\n",
       "      <td>653</td>\n",
       "      <td>18.75:</td>\n",
       "      <td>By the mercy of Vyasa, I have heard these most...</td>\n",
       "      <td>0.340491</td>\n",
       "    </tr>\n",
       "    <tr>\n",
       "      <td>654</td>\n",
       "      <td>18.76:</td>\n",
       "      <td>O King, as I repeatedly recall this wondrous a...</td>\n",
       "      <td>0.293717</td>\n",
       "    </tr>\n",
       "    <tr>\n",
       "      <td>655</td>\n",
       "      <td>18.77:</td>\n",
       "      <td>O King, as I remember the wonderful form of Lo...</td>\n",
       "      <td>0.298576</td>\n",
       "    </tr>\n",
       "    <tr>\n",
       "      <td>656</td>\n",
       "      <td>18.78:</td>\n",
       "      <td>Wherever there is Krsna, the master of all mys...</td>\n",
       "      <td>0.311784</td>\n",
       "    </tr>\n",
       "  </tbody>\n",
       "</table>\n",
       "<p>657 rows × 3 columns</p>\n",
       "</div>"
      ],
      "text/plain": [
       "     #verse                                        Translation         0\n",
       "0      1.1:  Dhrtarastra said: O Sanjaya, after my sons and...  0.441609\n",
       "1      1.2:  Sanjaya said: O King, after looking over the a...  0.354825\n",
       "2      1.3:  O my teacher, behold the great army of the son...  0.188103\n",
       "3      1.4:  Here in this army are many heroic bowmen equal...  0.415430\n",
       "4      1.5:  There are also great heroic, powerful fighters...  0.091340\n",
       "..      ...                                                ...       ...\n",
       "652  18.74:  Sanjaya said: Thus have I heard the conversati...  0.258383\n",
       "653  18.75:  By the mercy of Vyasa, I have heard these most...  0.340491\n",
       "654  18.76:  O King, as I repeatedly recall this wondrous a...  0.293717\n",
       "655  18.77:  O King, as I remember the wonderful form of Lo...  0.298576\n",
       "656  18.78:  Wherever there is Krsna, the master of all mys...  0.311784\n",
       "\n",
       "[657 rows x 3 columns]"
      ]
     },
     "execution_count": 23,
     "metadata": {},
     "output_type": "execute_result"
    }
   ],
   "source": [
    "df1 = pd.concat([df,pd.DataFrame(scores)],axis = 1)\n",
    "df1"
   ]
  },
  {
   "cell_type": "code",
   "execution_count": 24,
   "metadata": {},
   "outputs": [],
   "source": [
    "df1.columns = ['#Verse','Trans','Scores']"
   ]
  },
  {
   "cell_type": "markdown",
   "metadata": {},
   "source": [
    "# "
   ]
  },
  {
   "cell_type": "code",
   "execution_count": 25,
   "metadata": {},
   "outputs": [],
   "source": [
    "df2 = df1.sort_values(\"Scores\")[-1::-1]"
   ]
  },
  {
   "cell_type": "code",
   "execution_count": 26,
   "metadata": {},
   "outputs": [],
   "source": [
    "df3 = (df2[[\"#Verse\",\"Trans\"]].head(3))"
   ]
  },
  {
   "cell_type": "code",
   "execution_count": 27,
   "metadata": {},
   "outputs": [
    {
     "data": {
      "text/html": [
       "<div>\n",
       "<style scoped>\n",
       "    .dataframe tbody tr th:only-of-type {\n",
       "        vertical-align: middle;\n",
       "    }\n",
       "\n",
       "    .dataframe tbody tr th {\n",
       "        vertical-align: top;\n",
       "    }\n",
       "\n",
       "    .dataframe thead th {\n",
       "        text-align: right;\n",
       "    }\n",
       "</style>\n",
       "<table border=\"1\" class=\"dataframe\">\n",
       "  <thead>\n",
       "    <tr style=\"text-align: right;\">\n",
       "      <th></th>\n",
       "      <th>#Verse</th>\n",
       "      <th>Trans</th>\n",
       "    </tr>\n",
       "  </thead>\n",
       "  <tbody>\n",
       "    <tr>\n",
       "      <td>456</td>\n",
       "      <td>12.11:</td>\n",
       "      <td>If, however, you are unable to work in this co...</td>\n",
       "    </tr>\n",
       "    <tr>\n",
       "      <td>364</td>\n",
       "      <td>10.10:</td>\n",
       "      <td>To those who are constantly devoted to serving...</td>\n",
       "    </tr>\n",
       "    <tr>\n",
       "      <td>189</td>\n",
       "      <td>4.37:</td>\n",
       "      <td>As a blazing fire turns firewood to ashes, O A...</td>\n",
       "    </tr>\n",
       "  </tbody>\n",
       "</table>\n",
       "</div>"
      ],
      "text/plain": [
       "     #Verse                                              Trans\n",
       "456  12.11:  If, however, you are unable to work in this co...\n",
       "364  10.10:  To those who are constantly devoted to serving...\n",
       "189   4.37:  As a blazing fire turns firewood to ashes, O A..."
      ]
     },
     "execution_count": 27,
     "metadata": {},
     "output_type": "execute_result"
    }
   ],
   "source": [
    "df3"
   ]
  },
  {
   "cell_type": "code",
   "execution_count": 28,
   "metadata": {},
   "outputs": [
    {
     "name": "stdout",
     "output_type": "stream",
     "text": [
      "If, however, you are unable to work in this consciousness of Me, then try to act giving up all results of your work and try to be self-situated.\n",
      "##################\n",
      "To those who are constantly devoted to serving Me with love, I give the understanding by which they can come to Me.\n",
      "##################\n",
      "As a blazing fire turns firewood to ashes, O Arjuna, so does the fire of knowledge burn to ashes all reactions to material activities.\n"
     ]
    }
   ],
   "source": [
    "print(df3.iloc[0][\"Trans\"])\n",
    "print('##################')\n",
    "print(df3.iloc[1][\"Trans\"])\n",
    "print('##################')\n",
    "print(df3.iloc[2][\"Trans\"])"
   ]
  },
  {
   "cell_type": "code",
   "execution_count": null,
   "metadata": {},
   "outputs": [],
   "source": []
  }
 ],
 "metadata": {
  "kernelspec": {
   "display_name": "Python 3",
   "language": "python",
   "name": "python3"
  },
  "language_info": {
   "codemirror_mode": {
    "name": "ipython",
    "version": 3
   },
   "file_extension": ".py",
   "mimetype": "text/x-python",
   "name": "python",
   "nbconvert_exporter": "python",
   "pygments_lexer": "ipython3",
   "version": "3.7.4"
  }
 },
 "nbformat": 4,
 "nbformat_minor": 2
}
