{
 "cells": [
  {
   "cell_type": "code",
   "execution_count": 3,
   "metadata": {},
   "outputs": [],
   "source": [
    "from nltk.tokenize import sent_tokenize, word_tokenize"
   ]
  },
  {
   "cell_type": "code",
   "execution_count": 38,
   "metadata": {},
   "outputs": [],
   "source": [
    "data = 'A wiki is run using wiki software, otherwise known as a wiki engine. A wiki engine is a type of content management system, but it differs from most other such systems, including blog software, in that the content is created without any defined owner or leader, and wikis have little inherent structure, allowing structure to emerge according to the needs of the users.[2] There are dozens of different wiki engines in use, both standalone and part of other software, such as bug tracking systems. Some wiki engines are open source, whereas others are proprietary. Some permit control over different functions (levels of access); for example, editing rights may permit changing, adding, or removing material. Others may permit access without enforcing access control. Other rules may be imposed to organize content.'"
   ]
  },
  {
   "cell_type": "code",
   "execution_count": 39,
   "metadata": {},
   "outputs": [],
   "source": [
    "import string\n",
    "data = [word_tokenize(sent.lower().translate(str.maketrans('','',string.punctuation))) for sent in sent_tokenize(data)]"
   ]
  },
  {
   "cell_type": "code",
   "execution_count": 40,
   "metadata": {},
   "outputs": [
    {
     "data": {
      "text/plain": [
       "[['a',\n",
       "  'wiki',\n",
       "  'is',\n",
       "  'run',\n",
       "  'using',\n",
       "  'wiki',\n",
       "  'software',\n",
       "  'otherwise',\n",
       "  'known',\n",
       "  'as',\n",
       "  'a',\n",
       "  'wiki',\n",
       "  'engine'],\n",
       " ['a',\n",
       "  'wiki',\n",
       "  'engine',\n",
       "  'is',\n",
       "  'a',\n",
       "  'type',\n",
       "  'of',\n",
       "  'content',\n",
       "  'management',\n",
       "  'system',\n",
       "  'but',\n",
       "  'it',\n",
       "  'differs',\n",
       "  'from',\n",
       "  'most',\n",
       "  'other',\n",
       "  'such',\n",
       "  'systems',\n",
       "  'including',\n",
       "  'blog',\n",
       "  'software',\n",
       "  'in',\n",
       "  'that',\n",
       "  'the',\n",
       "  'content',\n",
       "  'is',\n",
       "  'created',\n",
       "  'without',\n",
       "  'any',\n",
       "  'defined',\n",
       "  'owner',\n",
       "  'or',\n",
       "  'leader',\n",
       "  'and',\n",
       "  'wikis',\n",
       "  'have',\n",
       "  'little',\n",
       "  'inherent',\n",
       "  'structure',\n",
       "  'allowing',\n",
       "  'structure',\n",
       "  'to',\n",
       "  'emerge',\n",
       "  'according',\n",
       "  'to',\n",
       "  'the',\n",
       "  'needs',\n",
       "  'of',\n",
       "  'the',\n",
       "  'users'],\n",
       " ['2',\n",
       "  'there',\n",
       "  'are',\n",
       "  'dozens',\n",
       "  'of',\n",
       "  'different',\n",
       "  'wiki',\n",
       "  'engines',\n",
       "  'in',\n",
       "  'use',\n",
       "  'both',\n",
       "  'standalone',\n",
       "  'and',\n",
       "  'part',\n",
       "  'of',\n",
       "  'other',\n",
       "  'software',\n",
       "  'such',\n",
       "  'as',\n",
       "  'bug',\n",
       "  'tracking',\n",
       "  'systems'],\n",
       " ['some',\n",
       "  'wiki',\n",
       "  'engines',\n",
       "  'are',\n",
       "  'open',\n",
       "  'source',\n",
       "  'whereas',\n",
       "  'others',\n",
       "  'are',\n",
       "  'proprietary'],\n",
       " ['some',\n",
       "  'permit',\n",
       "  'control',\n",
       "  'over',\n",
       "  'different',\n",
       "  'functions',\n",
       "  'levels',\n",
       "  'of',\n",
       "  'access',\n",
       "  'for',\n",
       "  'example',\n",
       "  'editing',\n",
       "  'rights',\n",
       "  'may',\n",
       "  'permit',\n",
       "  'changing',\n",
       "  'adding',\n",
       "  'or',\n",
       "  'removing',\n",
       "  'material'],\n",
       " ['others',\n",
       "  'may',\n",
       "  'permit',\n",
       "  'access',\n",
       "  'without',\n",
       "  'enforcing',\n",
       "  'access',\n",
       "  'control'],\n",
       " ['other', 'rules', 'may', 'be', 'imposed', 'to', 'organize', 'content']]"
      ]
     },
     "execution_count": 40,
     "metadata": {},
     "output_type": "execute_result"
    }
   ],
   "source": [
    "data"
   ]
  },
  {
   "cell_type": "code",
   "execution_count": 29,
   "metadata": {},
   "outputs": [
    {
     "data": {
      "text/plain": [
       "'A wiki is run using wiki software otherwise known as a wiki engine'"
      ]
     },
     "execution_count": 29,
     "metadata": {},
     "output_type": "execute_result"
    }
   ],
   "source": []
  },
  {
   "cell_type": "code",
   "execution_count": null,
   "metadata": {},
   "outputs": [],
   "source": []
  }
 ],
 "metadata": {
  "kernelspec": {
   "display_name": "Python 3",
   "language": "python",
   "name": "python3"
  },
  "language_info": {
   "codemirror_mode": {
    "name": "ipython",
    "version": 3
   },
   "file_extension": ".py",
   "mimetype": "text/x-python",
   "name": "python",
   "nbconvert_exporter": "python",
   "pygments_lexer": "ipython3",
   "version": "3.7.4"
  }
 },
 "nbformat": 4,
 "nbformat_minor": 2
}
