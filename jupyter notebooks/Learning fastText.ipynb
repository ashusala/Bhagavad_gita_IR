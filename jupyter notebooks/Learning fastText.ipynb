{
 "cells": [
  {
   "cell_type": "code",
   "execution_count": 9,
   "metadata": {},
   "outputs": [],
   "source": [
    "import fasttext"
   ]
  },
  {
   "cell_type": "code",
   "execution_count": 49,
   "metadata": {},
   "outputs": [],
   "source": [
    "model = fasttext.train_unsupervised('data_preprocessed.txt', \"cbow\", minn = 2, maxn = 13, epoch = 1, dim = 50, thread = 2)"
   ]
  },
  {
   "cell_type": "code",
   "execution_count": null,
   "metadata": {},
   "outputs": [],
   "source": []
  },
  {
   "cell_type": "code",
   "execution_count": 51,
   "metadata": {},
   "outputs": [
    {
     "data": {
      "text/plain": [
       "array([ 0.02290926, -0.14805898,  0.06266115, -1.9463882 , -0.20763952,\n",
       "        0.53897476,  0.6937683 , -1.3832622 ,  1.1150957 ,  0.42772457,\n",
       "       -1.2135764 , -0.2461896 ,  0.23546179,  0.07400032, -1.2151569 ,\n",
       "       -0.04956497,  1.1559467 , -1.0973977 ,  1.9257225 ,  0.7840765 ,\n",
       "       -1.1367936 ,  0.8843464 ,  0.9460381 , -0.6007547 , -2.3723416 ,\n",
       "       -0.12929597,  0.76728654,  0.11578879, -0.3874259 , -0.6156738 ,\n",
       "        0.15586834, -0.40918463,  0.10791533,  0.17644157, -0.20314406,\n",
       "       -0.47416043,  0.44658384,  0.03902654, -0.425989  ,  1.3982886 ,\n",
       "        0.07589089, -0.5454716 ,  0.0033349 , -0.73889047, -1.0533195 ,\n",
       "       -0.12590119, -0.48417562,  0.7707687 ,  1.3362471 , -0.82622147],\n",
       "      dtype=float32)"
      ]
     },
     "execution_count": 51,
     "metadata": {},
     "output_type": "execute_result"
    }
   ],
   "source": [
    "model.get_word_vector(\"drupada\")"
   ]
  },
  {
   "cell_type": "code",
   "execution_count": 14,
   "metadata": {},
   "outputs": [],
   "source": [
    "model.save_model(\"bg_e1_dim50.bin\")"
   ]
  },
  {
   "cell_type": "code",
   "execution_count": 15,
   "metadata": {},
   "outputs": [
    {
     "name": "stderr",
     "output_type": "stream",
     "text": [
      "Warning : `load_model` does not return WordVectorModel or SupervisedModel any more, but a `FastText` object which is very similar.\n"
     ]
    }
   ],
   "source": [
    "model = fasttext.load_model('bg_e1_dim50.bin')"
   ]
  },
  {
   "cell_type": "code",
   "execution_count": 61,
   "metadata": {},
   "outputs": [
    {
     "data": {
      "text/plain": [
       "[(0.8282594084739685, 'god.'),\n",
       " (0.6632394194602966, 'gods'),\n",
       " (0.6092169284820557, 'christian.'),\n",
       " (0.5953956246376038, 'sun'),\n",
       " (0.587046205997467, 'christ.'),\n",
       " (0.5846319794654846, 'christians'),\n",
       " (0.5668432116508484, 'demigod.'),\n",
       " (0.5632302165031433, 'vivasvan.'),\n",
       " (0.5615823864936829, 'christianity'),\n",
       " (0.5577183365821838, 'christian')]"
      ]
     },
     "execution_count": 61,
     "metadata": {},
     "output_type": "execute_result"
    }
   ],
   "source": [
    "model_d.get_nearest_neighbors('god')"
   ]
  },
  {
   "cell_type": "code",
   "execution_count": 62,
   "metadata": {},
   "outputs": [
    {
     "data": {
      "text/plain": [
       "[(0.8945981860160828, 'godhead.'),\n",
       " (0.8944464921951294, 'understood'),\n",
       " (0.8933999538421631, 'greatest'),\n",
       " (0.8872990608215332, 'greater.'),\n",
       " (0.8855419754981995, 'greatest.'),\n",
       " (0.881763756275177, 'godhead'),\n",
       " (0.8721942901611328, 'ordered.'),\n",
       " (0.8693423867225647, 'surrendered.'),\n",
       " (0.8671729564666748, 'surrendered'),\n",
       " (0.8663343787193298, 'understood.')]"
      ]
     },
     "execution_count": 62,
     "metadata": {},
     "output_type": "execute_result"
    }
   ],
   "source": [
    "model.get_nearest_neighbors('god')\n"
   ]
  },
  {
   "cell_type": "code",
   "execution_count": 58,
   "metadata": {},
   "outputs": [],
   "source": [
    "model_d = fasttext.train_unsupervised('data_preprocessed.txt')"
   ]
  },
  {
   "cell_type": "code",
   "execution_count": 39,
   "metadata": {},
   "outputs": [
    {
     "data": {
      "text/plain": [
       "[(0.7918990850448608, 'and'),\n",
       " (0.7406963109970093, 'in'),\n",
       " (0.6978713870048523, 'thereof'),\n",
       " (0.6943612098693848, 'there;'),\n",
       " (0.6874929666519165, 'there'),\n",
       " (0.680560290813446, 'that'),\n",
       " (0.678263783454895, 'The'),\n",
       " (0.6779012680053711, 'of'),\n",
       " (0.6766703724861145, 'outgoing'),\n",
       " (0.6672521233558655, 'Gathering')]"
      ]
     },
     "execution_count": 39,
     "metadata": {},
     "output_type": "execute_result"
    }
   ],
   "source": [
    "model_d.get_nearest_neighbors('the')"
   ]
  },
  {
   "cell_type": "code",
   "execution_count": null,
   "metadata": {},
   "outputs": [],
   "source": []
  }
 ],
 "metadata": {
  "kernelspec": {
   "display_name": "Python 3",
   "language": "python",
   "name": "python3"
  },
  "language_info": {
   "codemirror_mode": {
    "name": "ipython",
    "version": 3
   },
   "file_extension": ".py",
   "mimetype": "text/x-python",
   "name": "python",
   "nbconvert_exporter": "python",
   "pygments_lexer": "ipython3",
   "version": "3.7.4"
  }
 },
 "nbformat": 4,
 "nbformat_minor": 2
}
