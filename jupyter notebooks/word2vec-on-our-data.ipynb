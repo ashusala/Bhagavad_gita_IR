{
 "cells": [
  {
   "cell_type": "code",
   "execution_count": 1,
   "metadata": {},
   "outputs": [],
   "source": [
    "from nltk import sent_tokenize, word_tokenize"
   ]
  },
  {
   "cell_type": "code",
   "execution_count": 2,
   "metadata": {},
   "outputs": [],
   "source": [
    "import sklearn"
   ]
  },
  {
   "cell_type": "code",
   "execution_count": 3,
   "metadata": {},
   "outputs": [],
   "source": [
    "from numpy import dot\n",
    "from numpy.linalg import norm"
   ]
  },
  {
   "cell_type": "code",
   "execution_count": 4,
   "metadata": {},
   "outputs": [],
   "source": [
    "import string"
   ]
  },
  {
   "cell_type": "code",
   "execution_count": 5,
   "metadata": {},
   "outputs": [],
   "source": [
    "import gensim \n",
    "from gensim.models import Word2Vec "
   ]
  },
  {
   "cell_type": "code",
   "execution_count": 6,
   "metadata": {},
   "outputs": [],
   "source": [
    "sample = open('data_preprocessed.txt','r')\n",
    "s = sample.read()\n",
    "f = s.replace('\\n', ' ')"
   ]
  },
  {
   "cell_type": "code",
   "execution_count": 7,
   "metadata": {},
   "outputs": [
    {
     "data": {
      "text/plain": [
       "19782938"
      ]
     },
     "execution_count": 7,
     "metadata": {},
     "output_type": "execute_result"
    }
   ],
   "source": [
    "len(f)"
   ]
  },
  {
   "cell_type": "code",
   "execution_count": 8,
   "metadata": {},
   "outputs": [],
   "source": [
    "data = []\n",
    "\n",
    "# iterate through each sentence in the file\n",
    "for i in sent_tokenize(f):\n",
    "\n",
    "    i_new = i.translate(str.maketrans('', '', string.punctuation)) # remove unnecessary punctuations\n",
    "    \n",
    "    temp = []\n",
    "    \n",
    "    # tokenize the setence into words\n",
    "    for j in word_tokenize(i_new):\n",
    "        temp.append(j.lower())\n",
    "        \n",
    "    data.append(temp)\n"
   ]
  },
  {
   "cell_type": "code",
   "execution_count": 9,
   "metadata": {},
   "outputs": [],
   "source": [
    "# creating a CBOW model\n",
    "model = gensim.models.Word2Vec(data, min_count = 1, size = 100, window = 3) #epoch parameter tuning"
   ]
  },
  {
   "cell_type": "code",
   "execution_count": 10,
   "metadata": {},
   "outputs": [
    {
     "name": "stderr",
     "output_type": "stream",
     "text": [
      "/opt/anaconda3/lib/python3.7/site-packages/ipykernel_launcher.py:1: DeprecationWarning: Call to deprecated `__getitem__` (Method will be removed in 4.0.0, use self.wv.__getitem__() instead).\n",
      "  \"\"\"Entry point for launching an IPython kernel.\n"
     ]
    },
    {
     "data": {
      "text/plain": [
       "array([ 0.30789658,  0.25853768, -0.8409764 , -0.4462822 ,  2.572958  ,\n",
       "        0.879857  , -1.4518418 ,  1.4804612 , -0.69063604, -1.6453111 ,\n",
       "        0.39444357,  1.253753  , -2.725889  , -0.10263452,  3.9116573 ,\n",
       "        0.598053  , -1.0069466 , -1.1368349 ,  0.5602979 , -1.4283153 ,\n",
       "       -1.3081753 , -0.65446854,  1.7694027 ,  1.1555682 , -1.5410279 ,\n",
       "       -2.385466  ,  2.271466  ,  1.140945  , -1.8853829 ,  2.4306266 ,\n",
       "       -2.0862062 ,  1.4720688 , -0.3250349 ,  1.0686322 , -0.24748984,\n",
       "       -1.4705895 ,  0.02886546, -0.08677915, -1.1600374 , -0.713882  ,\n",
       "       -1.7444426 , -1.1372279 , -1.7393794 , -0.4907479 , -1.5114244 ,\n",
       "       -1.1841906 , -0.505332  , -1.7256808 ,  1.4339945 ,  2.4172037 ,\n",
       "        1.3354414 , -0.9899046 , -0.79953223, -1.151261  , -2.1947222 ,\n",
       "        2.1651587 ,  0.6063401 ,  1.6825951 ,  0.8649239 , -0.83006275,\n",
       "       -1.1157244 ,  2.8101032 ,  1.993713  ,  1.5107125 ,  1.2845284 ,\n",
       "       -0.9267922 ,  0.37624973,  0.65798926, -0.37058023,  1.8363792 ,\n",
       "       -0.05216375,  1.1450719 , -1.2111772 , -2.7097497 , -2.217508  ,\n",
       "        1.2535819 ,  1.1812642 , -0.46786076, -1.7448605 ,  0.49751106,\n",
       "        1.0971552 , -0.00860391, -1.1801559 , -2.9705062 , -0.6874354 ,\n",
       "       -0.3215079 , -2.0048757 , -0.5346189 ,  0.04435304, -0.99256265,\n",
       "       -1.6431326 ,  0.7709414 ,  0.2428365 , -2.811033  , -1.4770824 ,\n",
       "        0.17556725,  1.0218229 , -0.10561039,  0.3855512 , -0.1213804 ],\n",
       "      dtype=float32)"
      ]
     },
     "execution_count": 10,
     "metadata": {},
     "output_type": "execute_result"
    }
   ],
   "source": [
    "model['love']"
   ]
  },
  {
   "cell_type": "code",
   "execution_count": 16,
   "metadata": {},
   "outputs": [
    {
     "data": {
      "text/plain": [
       "32622"
      ]
     },
     "execution_count": 16,
     "metadata": {},
     "output_type": "execute_result"
    }
   ],
   "source": [
    "#model.similar_by_word('god')\n",
    "len(model.wv.vocab) #initially 19,402 -> 30,765"
   ]
  },
  {
   "cell_type": "code",
   "execution_count": 17,
   "metadata": {},
   "outputs": [],
   "source": [
    "# a function to count the frequency of words\n",
    "def word_count(str):\n",
    "    counts = dict()\n",
    "    \n",
    "    for word in str:\n",
    "        if word in counts:\n",
    "            counts[word] += 1\n",
    "        else:\n",
    "            counts[word] = 1\n",
    "\n",
    "    return counts"
   ]
  },
  {
   "cell_type": "code",
   "execution_count": 18,
   "metadata": {},
   "outputs": [],
   "source": [
    "import numpy as np\n",
    "\n",
    "def senemb(alpha, verse, model):\n",
    "\n",
    "    sentEmb = np.zeros(100)\n",
    "    v_count = word_count(verse)\n",
    "    \n",
    "    for word in verse:\n",
    "        prob = alpha / (alpha + v_count[word]/len(verse))\n",
    "        sentEmb = sentEmb +  model[word] * prob\n",
    "        \n",
    "    return sentEmb/len(verse)"
   ]
  },
  {
   "cell_type": "code",
   "execution_count": 20,
   "metadata": {},
   "outputs": [],
   "source": [
    "import pandas as pd\n",
    "import string\n",
    "\n",
    "df = pd.read_csv('verses.csv', usecols = ['#verse','Translation'])\n",
    "\n",
    "verseNum_ = list(df['#verse'])\n",
    "trans_ = list(df['Translation'])\n",
    "\n",
    "trans = []\n",
    "\n",
    "for each in trans_:\n",
    "    trans.append(each.lower())\n",
    "\n",
    "transNew = [i.translate(str.maketrans('', '', string.punctuation)) for i in trans] # remove unnecessary punctuations\n",
    "verseNum = []\n",
    "\n",
    "for num in verseNum_:\n",
    "    num = num[0:len(num)-1]\n",
    "    verseNum.append(num)\n",
    "    \n",
    "verse_map = dict(zip(transNew,verseNum))\n",
    "#verse_map"
   ]
  },
  {
   "cell_type": "code",
   "execution_count": 21,
   "metadata": {},
   "outputs": [
    {
     "name": "stderr",
     "output_type": "stream",
     "text": [
      "/opt/anaconda3/lib/python3.7/site-packages/ipykernel_launcher.py:10: DeprecationWarning: Call to deprecated `__getitem__` (Method will be removed in 4.0.0, use self.wv.__getitem__() instead).\n",
      "  # Remove the CWD from sys.path while we load stuff.\n"
     ]
    },
    {
     "name": "stdout",
     "output_type": "stream",
     "text": [
      "\"word 'anantavijaya' not in vocabulary\"\n",
      "\"word 'evilminded' not in vocabulary\"\n",
      "\"word 'fathersinlaw' not in vocabulary\"\n",
      "\"word 'fathersinlaw' not in vocabulary\"\n",
      "\"word 'everexisting' not in vocabulary\"\n",
      "\"word 'mightyarmed' not in vocabulary\"\n",
      "\"word 'manybranched' not in vocabulary\"\n",
      "\"word 'selfrealization' not in vocabulary\"\n",
      "\"word 'mightyarmed' not in vocabulary\"\n",
      "\"word 'selfcontrolled' not in vocabulary\"\n",
      "\"word 'karmayoga' not in vocabulary\"\n",
      "\"word 'selfrealization' not in vocabulary\"\n",
      "\"word 'selfrealized' not in vocabulary\"\n",
      "\"word 'mightyarmed' not in vocabulary\"\n",
      "\"word 'selfrealization' not in vocabulary\"\n",
      "\"word 'alldevouring' not in vocabulary\"\n",
      "\"word 'selfrealization' not in vocabulary\"\n",
      "\"word 'mightyarmed' not in vocabulary\"\n",
      "\"word 'sungod' not in vocabulary\"\n",
      "\"word 'sungod' not in vocabulary\"\n",
      "\"word 'selfrealization' not in vocabulary\"\n",
      "\"word 'selfrealized' not in vocabulary\"\n",
      "\"word 'selfrealized' not in vocabulary\"\n",
      "\"word 'mightyarmed' not in vocabulary\"\n",
      "\"word 'karmayoga' not in vocabulary\"\n",
      "\"word 'dogeater' not in vocabulary\"\n",
      "\"word 'selfintelligent' not in vocabulary\"\n",
      "\"word 'selfrealized' not in vocabulary\"\n",
      "\"word 'selfrealized' not in vocabulary\"\n",
      "\"word 'wellwisher' not in vocabulary\"\n",
      "\"word 'selfrealization' not in vocabulary\"\n",
      "\"word 'wellwishers' not in vocabulary\"\n",
      "\"word 'selfcontrolled' not in vocabulary\"\n",
      "\"word 'selfrealized' not in vocabulary\"\n",
      "\"word 'mightyarmed' not in vocabulary\"\n",
      "\"word 'selfrealization' not in vocabulary\"\n",
      "\"word 'selfrealization' not in vocabulary\"\n",
      "\"word 'mightyarmed' not in vocabulary\"\n",
      "\"word 'mightyarmed' not in vocabulary\"\n",
      "\"word 'mightyarmed' not in vocabulary\"\n",
      "\"word 'manyhooded' not in vocabulary\"\n",
      "\"word 'alldevouring' not in vocabulary\"\n",
      "\"word 'brhatsama' not in vocabulary\"\n",
      "\"word 'lotuseyed' not in vocabulary\"\n",
      "\"word 'asvinikumaras' not in vocabulary\"\n",
      "\"word 'allexpanding' not in vocabulary\"\n",
      "\"word 'mightyarmed' not in vocabulary\"\n",
      "\"word 'greatgrandfather' not in vocabulary\"\n",
      "\"word 'thousandarmed' not in vocabulary\"\n",
      "\"word 'fourarmed' not in vocabulary\"\n",
      "\"word 'bhaktiyoga' not in vocabulary\"\n",
      "\"word 'bhaktiyoga' not in vocabulary\"\n",
      "\"word 'selfsituated' not in vocabulary\"\n",
      "\"word 'selfcontrolled' not in vocabulary\"\n",
      "\"word 'vedantasutra' not in vocabulary\"\n",
      "\"word 'selfcontrol' not in vocabulary\"\n",
      "\"word 'seedgiving' not in vocabulary\"\n",
      "\"word 'mightyarmed' not in vocabulary\"\n",
      "\"word 'selfrealization' not in vocabulary\"\n",
      "\"word 'selfcontrol' not in vocabulary\"\n",
      "\"word 'selfrealization' not in vocabulary\"\n",
      "\"word 'selfcontrol' not in vocabulary\"\n",
      "\"word 'selftorture' not in vocabulary\"\n",
      "\"word 'mightyarmed' not in vocabulary\"\n",
      "\"word 'mightyarmed' not in vocabulary\"\n",
      "\"word 'selfrealization' not in vocabulary\"\n",
      "\"word 'selfrealization' not in vocabulary\"\n",
      "\"word 'selfcontrol' not in vocabulary\"\n",
      "\"word 'selfcontrolled' not in vocabulary\"\n",
      "\"word 'selfrealization' not in vocabulary\"\n"
     ]
    }
   ],
   "source": [
    "senVect = {}\n",
    "\n",
    "for verse in verse_map:\n",
    "    try: senVect[verse_map[verse]] = senemb(1, word_tokenize(verse), model)\n",
    "    except Exception as e: print(e)"
   ]
  },
  {
   "cell_type": "code",
   "execution_count": null,
   "metadata": {},
   "outputs": [],
   "source": [
    "vocab = list(model.wv.vocab)"
   ]
  },
  {
   "cell_type": "code",
   "execution_count": 8,
   "metadata": {},
   "outputs": [],
   "source": [
    "#test query\n",
    "query = 'boyhood to youth'"
   ]
  },
  {
   "cell_type": "code",
   "execution_count": 9,
   "metadata": {},
   "outputs": [],
   "source": [
    "query_list = query.split()"
   ]
  },
  {
   "cell_type": "code",
   "execution_count": 10,
   "metadata": {},
   "outputs": [
    {
     "ename": "NameError",
     "evalue": "name 'vocab' is not defined",
     "output_type": "error",
     "traceback": [
      "\u001b[0;31m---------------------------------------------------------------------------\u001b[0m",
      "\u001b[0;31mNameError\u001b[0m                                 Traceback (most recent call last)",
      "\u001b[0;32m<ipython-input-10-1602b496bbb2>\u001b[0m in \u001b[0;36m<module>\u001b[0;34m\u001b[0m\n\u001b[1;32m      1\u001b[0m \u001b[0mquery_trans\u001b[0m \u001b[0;34m=\u001b[0m \u001b[0;34m[\u001b[0m\u001b[0;34m]\u001b[0m\u001b[0;34m\u001b[0m\u001b[0;34m\u001b[0m\u001b[0m\n\u001b[1;32m      2\u001b[0m \u001b[0;32mfor\u001b[0m \u001b[0mele\u001b[0m \u001b[0;32min\u001b[0m \u001b[0mquery_list\u001b[0m\u001b[0;34m:\u001b[0m\u001b[0;34m\u001b[0m\u001b[0;34m\u001b[0m\u001b[0m\n\u001b[0;32m----> 3\u001b[0;31m     \u001b[0;32mif\u001b[0m \u001b[0mele\u001b[0m \u001b[0;32min\u001b[0m \u001b[0mvocab\u001b[0m\u001b[0;34m:\u001b[0m\u001b[0;34m\u001b[0m\u001b[0;34m\u001b[0m\u001b[0m\n\u001b[0m\u001b[1;32m      4\u001b[0m         \u001b[0mquery_trans\u001b[0m\u001b[0;34m.\u001b[0m\u001b[0mappend\u001b[0m\u001b[0;34m(\u001b[0m\u001b[0mele\u001b[0m\u001b[0;34m)\u001b[0m\u001b[0;34m\u001b[0m\u001b[0;34m\u001b[0m\u001b[0m\n",
      "\u001b[0;31mNameError\u001b[0m: name 'vocab' is not defined"
     ]
    }
   ],
   "source": [
    "query_trans = []\n",
    "for ele in query_list:\n",
    "    if ele in vocab:\n",
    "        query_trans.append(ele)"
   ]
  },
  {
   "cell_type": "code",
   "execution_count": 11,
   "metadata": {},
   "outputs": [
    {
     "ename": "NameError",
     "evalue": "name 'senemb' is not defined",
     "output_type": "error",
     "traceback": [
      "\u001b[0;31m---------------------------------------------------------------------------\u001b[0m",
      "\u001b[0;31mNameError\u001b[0m                                 Traceback (most recent call last)",
      "\u001b[0;32m<ipython-input-11-20ced05607d7>\u001b[0m in \u001b[0;36m<module>\u001b[0;34m\u001b[0m\n\u001b[0;32m----> 1\u001b[0;31m \u001b[0mquery_emb\u001b[0m \u001b[0;34m=\u001b[0m \u001b[0msenemb\u001b[0m\u001b[0;34m(\u001b[0m\u001b[0;36m1\u001b[0m \u001b[0;34m,\u001b[0m \u001b[0mquery_trans\u001b[0m \u001b[0;34m,\u001b[0m \u001b[0mmodel\u001b[0m\u001b[0;34m)\u001b[0m\u001b[0;34m\u001b[0m\u001b[0;34m\u001b[0m\u001b[0m\n\u001b[0m",
      "\u001b[0;31mNameError\u001b[0m: name 'senemb' is not defined"
     ]
    }
   ],
   "source": [
    "query_emb = senemb(1 , query_trans , model)"
   ]
  },
  {
   "cell_type": "code",
   "execution_count": 20,
   "metadata": {},
   "outputs": [],
   "source": [
    "x = list(senVect.items())\n",
    "#sklearn.metrics.pairwise.cosine_similarity(X, Y, dense_output=True)"
   ]
  },
  {
   "cell_type": "code",
   "execution_count": 1,
   "metadata": {},
   "outputs": [
    {
     "ename": "NameError",
     "evalue": "name 'senVect' is not defined",
     "output_type": "error",
     "traceback": [
      "\u001b[0;31m---------------------------------------------------------------------------\u001b[0m",
      "\u001b[0;31mNameError\u001b[0m                                 Traceback (most recent call last)",
      "\u001b[0;32m<ipython-input-1-0c187f310ada>\u001b[0m in \u001b[0;36m<module>\u001b[0;34m\u001b[0m\n\u001b[0;32m----> 1\u001b[0;31m \u001b[0msenVect\u001b[0m\u001b[0;34m\u001b[0m\u001b[0;34m\u001b[0m\u001b[0m\n\u001b[0m",
      "\u001b[0;31mNameError\u001b[0m: name 'senVect' is not defined"
     ]
    }
   ],
   "source": [
    "senVect"
   ]
  },
  {
   "cell_type": "code",
   "execution_count": 21,
   "metadata": {},
   "outputs": [],
   "source": [
    "scores = []"
   ]
  },
  {
   "cell_type": "code",
   "execution_count": 22,
   "metadata": {},
   "outputs": [],
   "source": [
    "for i in range(len(senVect)):\n",
    "    a = list(senVect.items())[i][1]\n",
    "#     print(a)\n",
    "#     print(query_emb)\n",
    "    b= (dot(a , query_emb))/(norm(a)*norm(query_emb))\n",
    "    #print(b)\n",
    "    scores.append(b)\n",
    "\n"
   ]
  },
  {
   "cell_type": "code",
   "execution_count": 23,
   "metadata": {},
   "outputs": [
    {
     "data": {
      "text/html": [
       "<div>\n",
       "<style scoped>\n",
       "    .dataframe tbody tr th:only-of-type {\n",
       "        vertical-align: middle;\n",
       "    }\n",
       "\n",
       "    .dataframe tbody tr th {\n",
       "        vertical-align: top;\n",
       "    }\n",
       "\n",
       "    .dataframe thead th {\n",
       "        text-align: right;\n",
       "    }\n",
       "</style>\n",
       "<table border=\"1\" class=\"dataframe\">\n",
       "  <thead>\n",
       "    <tr style=\"text-align: right;\">\n",
       "      <th></th>\n",
       "      <th>#verse</th>\n",
       "      <th>Translation</th>\n",
       "      <th>0</th>\n",
       "    </tr>\n",
       "  </thead>\n",
       "  <tbody>\n",
       "    <tr>\n",
       "      <td>0</td>\n",
       "      <td>1.1:</td>\n",
       "      <td>Dhrtarastra said: O Sanjaya, after my sons and...</td>\n",
       "      <td>0.441609</td>\n",
       "    </tr>\n",
       "    <tr>\n",
       "      <td>1</td>\n",
       "      <td>1.2:</td>\n",
       "      <td>Sanjaya said: O King, after looking over the a...</td>\n",
       "      <td>0.354825</td>\n",
       "    </tr>\n",
       "    <tr>\n",
       "      <td>2</td>\n",
       "      <td>1.3:</td>\n",
       "      <td>O my teacher, behold the great army of the son...</td>\n",
       "      <td>0.188103</td>\n",
       "    </tr>\n",
       "    <tr>\n",
       "      <td>3</td>\n",
       "      <td>1.4:</td>\n",
       "      <td>Here in this army are many heroic bowmen equal...</td>\n",
       "      <td>0.415430</td>\n",
       "    </tr>\n",
       "    <tr>\n",
       "      <td>4</td>\n",
       "      <td>1.5:</td>\n",
       "      <td>There are also great heroic, powerful fighters...</td>\n",
       "      <td>0.091340</td>\n",
       "    </tr>\n",
       "    <tr>\n",
       "      <td>...</td>\n",
       "      <td>...</td>\n",
       "      <td>...</td>\n",
       "      <td>...</td>\n",
       "    </tr>\n",
       "    <tr>\n",
       "      <td>652</td>\n",
       "      <td>18.74:</td>\n",
       "      <td>Sanjaya said: Thus have I heard the conversati...</td>\n",
       "      <td>0.258383</td>\n",
       "    </tr>\n",
       "    <tr>\n",
       "      <td>653</td>\n",
       "      <td>18.75:</td>\n",
       "      <td>By the mercy of Vyasa, I have heard these most...</td>\n",
       "      <td>0.340491</td>\n",
       "    </tr>\n",
       "    <tr>\n",
       "      <td>654</td>\n",
       "      <td>18.76:</td>\n",
       "      <td>O King, as I repeatedly recall this wondrous a...</td>\n",
       "      <td>0.293717</td>\n",
       "    </tr>\n",
       "    <tr>\n",
       "      <td>655</td>\n",
       "      <td>18.77:</td>\n",
       "      <td>O King, as I remember the wonderful form of Lo...</td>\n",
       "      <td>0.298576</td>\n",
       "    </tr>\n",
       "    <tr>\n",
       "      <td>656</td>\n",
       "      <td>18.78:</td>\n",
       "      <td>Wherever there is Krsna, the master of all mys...</td>\n",
       "      <td>0.311784</td>\n",
       "    </tr>\n",
       "  </tbody>\n",
       "</table>\n",
       "<p>657 rows × 3 columns</p>\n",
       "</div>"
      ],
      "text/plain": [
       "     #verse                                        Translation         0\n",
       "0      1.1:  Dhrtarastra said: O Sanjaya, after my sons and...  0.441609\n",
       "1      1.2:  Sanjaya said: O King, after looking over the a...  0.354825\n",
       "2      1.3:  O my teacher, behold the great army of the son...  0.188103\n",
       "3      1.4:  Here in this army are many heroic bowmen equal...  0.415430\n",
       "4      1.5:  There are also great heroic, powerful fighters...  0.091340\n",
       "..      ...                                                ...       ...\n",
       "652  18.74:  Sanjaya said: Thus have I heard the conversati...  0.258383\n",
       "653  18.75:  By the mercy of Vyasa, I have heard these most...  0.340491\n",
       "654  18.76:  O King, as I repeatedly recall this wondrous a...  0.293717\n",
       "655  18.77:  O King, as I remember the wonderful form of Lo...  0.298576\n",
       "656  18.78:  Wherever there is Krsna, the master of all mys...  0.311784\n",
       "\n",
       "[657 rows x 3 columns]"
      ]
     },
     "execution_count": 23,
     "metadata": {},
     "output_type": "execute_result"
    }
   ],
   "source": [
    "df1 = pd.concat([df,pd.DataFrame(scores)],axis = 1)\n",
    "df1"
   ]
  },
  {
   "cell_type": "code",
   "execution_count": 24,
   "metadata": {},
   "outputs": [],
   "source": [
    "df1.columns = ['#Verse','Trans','Scores']"
   ]
  },
  {
   "cell_type": "markdown",
   "metadata": {},
   "source": [
    "# "
   ]
  },
  {
   "cell_type": "code",
   "execution_count": 25,
   "metadata": {},
   "outputs": [],
   "source": [
    "df2 = df1.sort_values(\"Scores\")[-1::-1]"
   ]
  },
  {
   "cell_type": "code",
   "execution_count": 26,
   "metadata": {},
   "outputs": [],
   "source": [
    "df3 = (df2[[\"#Verse\",\"Trans\"]].head(3))"
   ]
  },
  {
   "cell_type": "code",
   "execution_count": 27,
   "metadata": {},
   "outputs": [
    {
     "data": {
      "text/html": [
       "<div>\n",
       "<style scoped>\n",
       "    .dataframe tbody tr th:only-of-type {\n",
       "        vertical-align: middle;\n",
       "    }\n",
       "\n",
       "    .dataframe tbody tr th {\n",
       "        vertical-align: top;\n",
       "    }\n",
       "\n",
       "    .dataframe thead th {\n",
       "        text-align: right;\n",
       "    }\n",
       "</style>\n",
       "<table border=\"1\" class=\"dataframe\">\n",
       "  <thead>\n",
       "    <tr style=\"text-align: right;\">\n",
       "      <th></th>\n",
       "      <th>#Verse</th>\n",
       "      <th>Trans</th>\n",
       "    </tr>\n",
       "  </thead>\n",
       "  <tbody>\n",
       "    <tr>\n",
       "      <td>456</td>\n",
       "      <td>12.11:</td>\n",
       "      <td>If, however, you are unable to work in this co...</td>\n",
       "    </tr>\n",
       "    <tr>\n",
       "      <td>364</td>\n",
       "      <td>10.10:</td>\n",
       "      <td>To those who are constantly devoted to serving...</td>\n",
       "    </tr>\n",
       "    <tr>\n",
       "      <td>189</td>\n",
       "      <td>4.37:</td>\n",
       "      <td>As a blazing fire turns firewood to ashes, O A...</td>\n",
       "    </tr>\n",
       "  </tbody>\n",
       "</table>\n",
       "</div>"
      ],
      "text/plain": [
       "     #Verse                                              Trans\n",
       "456  12.11:  If, however, you are unable to work in this co...\n",
       "364  10.10:  To those who are constantly devoted to serving...\n",
       "189   4.37:  As a blazing fire turns firewood to ashes, O A..."
      ]
     },
     "execution_count": 27,
     "metadata": {},
     "output_type": "execute_result"
    }
   ],
   "source": [
    "df3"
   ]
  },
  {
   "cell_type": "code",
   "execution_count": 28,
   "metadata": {},
   "outputs": [
    {
     "name": "stdout",
     "output_type": "stream",
     "text": [
      "If, however, you are unable to work in this consciousness of Me, then try to act giving up all results of your work and try to be self-situated.\n",
      "##################\n",
      "To those who are constantly devoted to serving Me with love, I give the understanding by which they can come to Me.\n",
      "##################\n",
      "As a blazing fire turns firewood to ashes, O Arjuna, so does the fire of knowledge burn to ashes all reactions to material activities.\n"
     ]
    }
   ],
   "source": [
    "print(df3.iloc[0][\"Trans\"])\n",
    "print('##################')\n",
    "print(df3.iloc[1][\"Trans\"])\n",
    "print('##################')\n",
    "print(df3.iloc[2][\"Trans\"])"
   ]
  },
  {
   "cell_type": "code",
   "execution_count": null,
   "metadata": {},
   "outputs": [],
   "source": []
  }
 ],
 "metadata": {
  "kernelspec": {
   "display_name": "Python 3",
   "language": "python",
   "name": "python3"
  },
  "language_info": {
   "codemirror_mode": {
    "name": "ipython",
    "version": 3
   },
   "file_extension": ".py",
   "mimetype": "text/x-python",
   "name": "python",
   "nbconvert_exporter": "python",
   "pygments_lexer": "ipython3",
   "version": "3.7.4"
  }
 },
 "nbformat": 4,
 "nbformat_minor": 2
}
