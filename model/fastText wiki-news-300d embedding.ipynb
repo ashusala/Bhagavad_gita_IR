{
 "cells": [
  {
   "cell_type": "code",
   "execution_count": 1,
   "metadata": {},
   "outputs": [],
   "source": [
    "from gensim.models import KeyedVectors"
   ]
  },
  {
   "cell_type": "code",
   "execution_count": 2,
   "metadata": {},
   "outputs": [],
   "source": [
    "# 1 Million 300 Dimension Vector of wikipedia\n",
    "model = KeyedVectors.load_word2vec_format('wiki-news-300d-1M.vec')"
   ]
  },
  {
   "cell_type": "code",
   "execution_count": 14,
   "metadata": {},
   "outputs": [
    {
     "data": {
      "text/plain": [
       "999994"
      ]
     },
     "execution_count": 14,
     "metadata": {},
     "output_type": "execute_result"
    }
   ],
   "source": [
    "len(model.vocab)\n",
    "# sucess in loading the model"
   ]
  },
  {
   "cell_type": "markdown",
   "metadata": {},
   "source": [
    "<h1> Let's get the vectors for our vocabulary </h1>"
   ]
  },
  {
   "cell_type": "code",
   "execution_count": 27,
   "metadata": {},
   "outputs": [],
   "source": [
    "vocab_wiki = list(model.vocab) #embeddings vocabulary"
   ]
  },
  {
   "cell_type": "code",
   "execution_count": 42,
   "metadata": {},
   "outputs": [],
   "source": [
    "f = open('vocab_our_data.txt', 'r')\n",
    "vocab = f.read().split()"
   ]
  },
  {
   "cell_type": "code",
   "execution_count": 43,
   "metadata": {},
   "outputs": [
    {
     "data": {
      "text/plain": [
       "6856"
      ]
     },
     "execution_count": 43,
     "metadata": {},
     "output_type": "execute_result"
    }
   ],
   "source": [
    "len(vocab) "
   ]
  },
  {
   "cell_type": "code",
   "execution_count": 45,
   "metadata": {},
   "outputs": [
    {
     "data": {
      "text/plain": [
       "[('hate', 0.7127140760421753),\n",
       " ('loving', 0.7031040191650391),\n",
       " ('love-', 0.6824191808700562),\n",
       " ('loved', 0.6770628094673157),\n",
       " ('loves', 0.6755635738372803),\n",
       " ('passion', 0.6716182231903076),\n",
       " ('adore', 0.6669158935546875),\n",
       " ('LOVE', 0.6652414202690125),\n",
       " ('love.', 0.6644536256790161),\n",
       " ('affection', 0.6550436019897461)]"
      ]
     },
     "execution_count": 45,
     "metadata": {},
     "output_type": "execute_result"
    }
   ],
   "source": [
    "model.similar_by_word('love')"
   ]
  },
  {
   "cell_type": "code",
   "execution_count": 46,
   "metadata": {},
   "outputs": [
    {
     "data": {
      "text/plain": [
       "[('lives', 0.7011184096336365),\n",
       " ('life--', 0.6907103061676025),\n",
       " ('life-', 0.6833023428916931),\n",
       " ('life.', 0.6670477986335754),\n",
       " ('Life', 0.6577804088592529),\n",
       " ('life--and', 0.6547085642814636),\n",
       " ('life-and', 0.6528764963150024),\n",
       " ('well-lived', 0.6472337245941162),\n",
       " ('lfe', 0.6450807452201843),\n",
       " ('expectancy', 0.6377779245376587)]"
      ]
     },
     "execution_count": 46,
     "metadata": {},
     "output_type": "execute_result"
    }
   ],
   "source": [
    "model.similar_by_word('life')"
   ]
  },
  {
   "cell_type": "code",
   "execution_count": 47,
   "metadata": {},
   "outputs": [
    {
     "data": {
      "text/plain": [
       "[('gods', 0.834537923336029),\n",
       " ('deity', 0.8129996061325073),\n",
       " ('God', 0.7414365410804749),\n",
       " ('diety', 0.7369818091392517),\n",
       " ('deities', 0.7121931314468384),\n",
       " ('goddess', 0.7118030786514282),\n",
       " ('Gods', 0.7049707770347595),\n",
       " ('godness', 0.6906740665435791),\n",
       " ('god-', 0.6887580752372742),\n",
       " ('gods.', 0.673833429813385)]"
      ]
     },
     "execution_count": 47,
     "metadata": {},
     "output_type": "execute_result"
    }
   ],
   "source": [
    "model.similar_by_word('god')"
   ]
  },
  {
   "cell_type": "code",
   "execution_count": null,
   "metadata": {},
   "outputs": [],
   "source": []
  }
 ],
 "metadata": {
  "kernelspec": {
   "display_name": "Python 3",
   "language": "python",
   "name": "python3"
  },
  "language_info": {
   "codemirror_mode": {
    "name": "ipython",
    "version": 3
   },
   "file_extension": ".py",
   "mimetype": "text/x-python",
   "name": "python",
   "nbconvert_exporter": "python",
   "pygments_lexer": "ipython3",
   "version": "3.7.4"
  }
 },
 "nbformat": 4,
 "nbformat_minor": 2
}
