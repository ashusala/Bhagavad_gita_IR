{
 "cells": [
  {
   "cell_type": "code",
   "execution_count": 1,
   "metadata": {},
   "outputs": [],
   "source": [
    "from selenium import webdriver\n",
    "from bs4 import BeautifulSoup\n",
    "import unidecode"
   ]
  },
  {
   "cell_type": "code",
   "execution_count": 4,
   "metadata": {},
   "outputs": [],
   "source": [
    "# setting up our chrome webdriver\n",
    "driver = webdriver.Chrome(\"/usr/local/bin/chromedriver\")\n",
    "\n",
    "# setting up the url and creating the content soup\n",
    "fixed_url = \"https://vedabase.io/en/library/bs/5/\""
   ]
  },
  {
   "cell_type": "code",
   "execution_count": 5,
   "metadata": {},
   "outputs": [],
   "source": [
    "# getting the texts first\n",
    "driver.get(fixed_url)\n",
    "content = driver.page_source\n",
    "soup = BeautifulSoup(content)\n",
    "\n",
    "# a list to contain all the texts\n",
    "texts = []\n",
    "\n",
    "for text in soup.find_all('div', attrs={'class':'rich-text'}):\n",
    "        if text.find('dd') != None:\n",
    "            texts.append(unidecode.unidecode(text.find('dd').text))"
   ]
  },
  {
   "cell_type": "code",
   "execution_count": 13,
   "metadata": {},
   "outputs": [],
   "source": [
    "# a list to contain purports and translations\n",
    "purports = []\n",
    "translations = []\n",
    "\n",
    "# getting the translations and purports for all the 63 texts.\n",
    "for i in range(63):\n",
    "    url = fixed_url + str(i)\n",
    "    driver.get(url)\n",
    "    content = driver.page_source\n",
    "    soup = BeautifulSoup(content)\n",
    "    \n",
    "    trans_find = soup.find('div', attrs={'class':\"wrapper-translation\"})\n",
    "    pur_find = soup.find('div', attrs={'class':\"wrapper-puport\"})\n",
    "    \n",
    "    if trans_find != None:\n",
    "        translations.append(unidecode.unidecode(trans_find.find('p').text))\n",
    "    \n",
    "    if pur_find != None:\n",
    "        for para in pur_find.find_all('p'):\n",
    "            purports.append(unidecode.unidecode(para.text))"
   ]
  },
  {
   "cell_type": "code",
   "execution_count": 15,
   "metadata": {},
   "outputs": [
    {
     "name": "stdout",
     "output_type": "stream",
     "text": [
      "62 88\n",
      "Krsna who is known as Govinda is the Supreme Godhead. He has an eternal blissful spiritual body. He is the origin of all. He has no other origin and He is the prime cause of all causes.\n",
      "Krsna is the exalted Supreme entity having His eternal name, eternal form, eternal attribution and eternal pastimes. The very name \"Krsna\" implies His love-attracting designation, expressing by His eternal nomenclature the acme of entity. His eternal beautiful heavenly blue-tinged body glowing with the intensity of ever-existing knowledge has a flute in both His hands. As His inconceivable spiritual energy is all-extending, still He maintains His all-charming medium size by His qualifying spiritual instrumentals. His all-accommodating supreme subjectivity is nicely manifested in His eternal form. The concentrated all-time presence, uncovered knowledge and inebriating felicity have their beauty in Him. The mundane manifestive portion of His own Self is known as all-pervading Paramatma, Isvara (Superior Lord) or Visnu (All-fostering). Hence it is evident that Krsna is sole Supreme Godhead. His unrivaled or unique spiritual body of superexcellent charm is eternally unveiled with innumerable spiritual instrumentals (senses) and unreckonable attributes keeping their signifying location properly, adjusting at the same time by His inconceivable conciliative powers. This beautiful spiritual figure is identical with Krsna and the spiritual entity of Krsna is identical with His own figure.\n"
     ]
    }
   ],
   "source": [
    "# just to check if everything worked out okay... :)\n",
    "\n",
    "print(len(translations), len(purports))\n",
    "print(translations[0])\n",
    "print(purports[0])"
   ]
  },
  {
   "cell_type": "code",
   "execution_count": 18,
   "metadata": {},
   "outputs": [],
   "source": [
    "with open(\"brahma-samihita.txt\", 'w+') as f:\n",
    "    for text in texts:\n",
    "        f.write(str(text) + ' ')\n",
    "    for translation in translations:\n",
    "        f.write(str(translation) + ' ')\n",
    "    for purport in purports:\n",
    "        f.write(str(purport) + ' ')"
   ]
  },
  {
   "cell_type": "code",
   "execution_count": null,
   "metadata": {},
   "outputs": [],
   "source": []
  }
 ],
 "metadata": {
  "kernelspec": {
   "display_name": "Python 3",
   "language": "python",
   "name": "python3"
  },
  "language_info": {
   "codemirror_mode": {
    "name": "ipython",
    "version": 3
   },
   "file_extension": ".py",
   "mimetype": "text/x-python",
   "name": "python",
   "nbconvert_exporter": "python",
   "pygments_lexer": "ipython3",
   "version": "3.7.4"
  }
 },
 "nbformat": 4,
 "nbformat_minor": 2
}
