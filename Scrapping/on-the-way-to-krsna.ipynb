{
 "cells": [
  {
   "cell_type": "code",
   "execution_count": 1,
   "metadata": {},
   "outputs": [],
   "source": [
    "from selenium import webdriver\n",
    "from bs4 import BeautifulSoup\n",
    "import unidecode"
   ]
  },
  {
   "cell_type": "code",
   "execution_count": 3,
   "metadata": {},
   "outputs": [],
   "source": [
    "# setting up our chrome webdriver\n",
    "driver = webdriver.Chrome(\"/usr/local/bin/chromedriver\")\n",
    "\n",
    "# setting up the url and creating the content soup\n",
    "fixed_url = \"https://vedabase.io/en/library/owk/\""
   ]
  },
  {
   "cell_type": "code",
   "execution_count": 14,
   "metadata": {},
   "outputs": [],
   "source": [
    "# getting the texts\n",
    "\n",
    "# a list to contain all the texts\n",
    "texts = []\n",
    "\n",
    "# looping over all the pages \n",
    "for i in range(1,6):\n",
    "\n",
    "    url = fixed_url + str(i) + '/'\n",
    "    driver.get(url)\n",
    "    content = driver.page_source\n",
    "    soup = BeautifulSoup(content).find('div', attrs={'id':'content'})\n",
    "    \n",
    "    # getting all tha paras\n",
    "    for text in soup.find_all('div', attrs={'class':\"r r-lang-en r-paragraph\"}):\n",
    "        if text.find('p') != None:\n",
    "            texts.append(unidecode.unidecode(text.find('p').text))"
   ]
  },
  {
   "cell_type": "code",
   "execution_count": 20,
   "metadata": {},
   "outputs": [
    {
     "name": "stdout",
     "output_type": "stream",
     "text": [
      "133\n",
      "Due to the contamination of matter, the perfect living entity falls down, but this process of Krsna consciousness will again make him perfect. Through it, he can become truly happy, and after leaving the material body, enter into the kingdom where there is eternal life, bliss, and full knowledge.\n"
     ]
    }
   ],
   "source": [
    "# just to check if everything worked out okay... :)\n",
    "texts\n",
    "print(len(texts))\n",
    "print(texts[132])"
   ]
  },
  {
   "cell_type": "code",
   "execution_count": 21,
   "metadata": {},
   "outputs": [],
   "source": [
    "with open(\"on-the-way-to-krsna.txt\", 'w+') as f:\n",
    "    for text in texts:\n",
    "        f.write(str(text) + ' ')"
   ]
  },
  {
   "cell_type": "code",
   "execution_count": null,
   "metadata": {},
   "outputs": [],
   "source": []
  }
 ],
 "metadata": {
  "kernelspec": {
   "display_name": "Python 3",
   "language": "python",
   "name": "python3"
  },
  "language_info": {
   "codemirror_mode": {
    "name": "ipython",
    "version": 3
   },
   "file_extension": ".py",
   "mimetype": "text/x-python",
   "name": "python",
   "nbconvert_exporter": "python",
   "pygments_lexer": "ipython3",
   "version": "3.7.4"
  }
 },
 "nbformat": 4,
 "nbformat_minor": 2
}
